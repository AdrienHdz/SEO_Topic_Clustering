{
 "cells": [
  {
   "cell_type": "code",
   "execution_count": 28,
   "metadata": {},
   "outputs": [
    {
     "name": "stderr",
     "output_type": "stream",
     "text": [
      "C:\\Users\\adrie\\Desktop\\bureau\\Ressources\\Webpage_Topic_Clustering\\.env\\lib\\site-packages\\ipykernel\\ipkernel.py:287: DeprecationWarning: `should_run_async` will not call `transform_cell` automatically in the future. Please pass the result to `transformed_cell` argument and any exception that happen during thetransform in `preprocessing_exc_tuple` in IPython 7.17 and above.\n",
      "  and should_run_async(code)\n"
     ]
    }
   ],
   "source": [
    "import pickle\n",
    "import gensim\n",
    "from gensim import corpora\n",
    "import pandas as pd\n",
    "\n",
    "import pyLDAvis\n",
    "import pyLDAvis.gensim\n",
    "\n",
    "import re\n",
    "import matplotlib.pyplot as plt\n",
    "\n",
    "import warnings\n",
    "warnings.filterwarnings('ignore')"
   ]
  },
  {
   "cell_type": "code",
   "execution_count": 29,
   "metadata": {},
   "outputs": [],
   "source": [
    "with open(\"text_lemmentized_ecocompteur.txt\", \"rb\") as fp:\n",
    "    text_lemmentized_e = pickle.load(fp)\n",
    "    \n",
    "with open(\"text_lemmentized_doctissimo.txt\", \"rb\") as fp:\n",
    "    text_lemmentized_d = pickle.load(fp)\n",
    "    \n",
    "with open(\"text_lemmentized_woopets.txt\", \"rb\") as fp:\n",
    "    text_lemmentized_w = pickle.load(fp)"
   ]
  },
  {
   "cell_type": "markdown",
   "metadata": {},
   "source": [
    "### 1. Building an LDA Model"
   ]
  },
  {
   "cell_type": "code",
   "execution_count": 30,
   "metadata": {},
   "outputs": [],
   "source": [
    "dictionary_e = corpora.Dictionary(text_lemmentized_e)\n",
    "\n",
    "dictionary_d = corpora.Dictionary(text_lemmentized_d)\n",
    "\n",
    "dictionary_w = corpora.Dictionary(text_lemmentized_w)"
   ]
  },
  {
   "cell_type": "code",
   "execution_count": 31,
   "metadata": {},
   "outputs": [],
   "source": [
    "doc_term_matrix_e = [dictionary_e.doc2bow(rev) for rev in text_lemmentized_e]\n",
    "doc_term_matrix_d = [dictionary_d.doc2bow(rev) for rev in text_lemmentized_d]\n",
    "doc_term_matrix_w = [dictionary_w.doc2bow(rev) for rev in text_lemmentized_w]"
   ]
  },
  {
   "cell_type": "code",
   "execution_count": 40,
   "metadata": {},
   "outputs": [],
   "source": [
    "# Creating the object for LDA model using gensim library\n",
    "LDA = gensim.models.ldamodel.LdaModel\n",
    "\n",
    "# Build LDA model\n",
    "num_topics = 5\n",
    "lda_model_e = LDA(corpus=doc_term_matrix_e, id2word=dictionary_e, \n",
    "                num_topics=num_topics, \n",
    "                alpha=[0.001] * num_topics, \n",
    "                eta=[0.001] * len(dictionary_e),\n",
    "                chunksize=1000,\n",
    "                passes=20,\n",
    "                random_state=100)\n",
    "\n",
    "num_topics = 5\n",
    "lda_model_d = LDA(corpus=doc_term_matrix_d, id2word=dictionary_d, \n",
    "                num_topics=num_topics, \n",
    "                alpha=[0.001] * num_topics, \n",
    "                eta=[0.001] * len(dictionary_d),\n",
    "                chunksize=1000,\n",
    "                passes=20,\n",
    "                random_state=100)\n",
    "\n",
    "num_topics = 5\n",
    "lda_model_w = LDA(corpus=doc_term_matrix_w, id2word=dictionary_w, \n",
    "                num_topics=num_topics, \n",
    "                alpha=[0.001] * num_topics, \n",
    "                eta=[0.001] * len(dictionary_w),\n",
    "                chunksize=1000,\n",
    "                passes=20,\n",
    "                random_state=100)\n",
    "\n",
    "\n"
   ]
  },
  {
   "cell_type": "code",
   "execution_count": 41,
   "metadata": {},
   "outputs": [
    {
     "data": {
      "text/plain": [
       "[(0,\n",
       "  '0.039*\"data\" + 0.029*\"public\" + 0.020*\"count\" + 0.020*\"pedestrian\" + 0.020*\"projects\"'),\n",
       " (1,\n",
       "  '0.046*\"people\" + 0.027*\"street\" + 0.027*\"city\" + 0.027*\"day\" + 0.018*\"around\"'),\n",
       " (2,\n",
       "  '0.039*\"street\" + 0.028*\"city\" + 0.028*\"pedestrianization\" + 0.017*\"kelowna\" + 0.017*\"project\"'),\n",
       " (3,\n",
       "  '0.046*\"data\" + 0.046*\"bernard\" + 0.046*\"pedestrian\" + 0.035*\"kelownas\" + 0.035*\"2020\"'),\n",
       " (4,\n",
       "  '0.041*\"street\" + 0.028*\"pedestrianization\" + 0.028*\"data\" + 0.028*\"people\" + 0.028*\"two\"')]"
      ]
     },
     "execution_count": 41,
     "metadata": {},
     "output_type": "execute_result"
    }
   ],
   "source": [
    "lda_model_e.print_topics(num_words=5)"
   ]
  },
  {
   "cell_type": "code",
   "execution_count": 42,
   "metadata": {},
   "outputs": [
    {
     "data": {
      "text/plain": [
       "[(0,\n",
       "  '0.071*\"cochon\" + 0.071*\"d\\'inde\" + 0.043*\"très\" + 0.029*\"sensible\" + 0.029*\"fragile\"'),\n",
       " (1,\n",
       "  '0.041*\"dynamique\" + 0.041*\"dents\" + 0.041*\"fait\" + 0.041*\"va\" + 0.041*\"devient\"'),\n",
       " (2,\n",
       "  '0.070*\"cochon\" + 0.070*\"très\" + 0.052*\"d\\'inde\" + 0.017*\"moyen\" + 0.017*\"a\"'),\n",
       " (3,\n",
       "  '0.049*\"plus\" + 0.033*\"très\" + 0.033*\"journée\" + 0.033*\"supporte\" + 0.033*\"beaucoup\"'),\n",
       " (4,\n",
       "  '0.030*\"c\\'est\" + 0.030*\"assez\" + 0.030*\"faire\" + 0.030*\"reste\" + 0.030*\"faut\"')]"
      ]
     },
     "execution_count": 42,
     "metadata": {},
     "output_type": "execute_result"
    }
   ],
   "source": [
    "lda_model_d.print_topics(num_words=5)"
   ]
  },
  {
   "cell_type": "code",
   "execution_count": 43,
   "metadata": {},
   "outputs": [
    {
     "data": {
      "text/plain": [
       "[(0,\n",
       "  '0.051*\"cochon\" + 0.038*\"dinde\" + 0.026*\"petits\" + 0.026*\"entendrez\" + 0.026*\"a\"'),\n",
       " (1,\n",
       "  '0.122*\"trouver\" + 0.122*\"devez\" + 0.122*\"donc\" + 0.122*\"dose\" + 0.122*\"donner\"'),\n",
       " (2,\n",
       "  '0.059*\"dinde\" + 0.059*\"cochon\" + 0.039*\"corps\" + 0.039*\"bien\" + 0.020*\"possède\"'),\n",
       " (3,\n",
       "  '0.060*\"comportement\" + 0.030*\"change\" + 0.030*\"cause\" + 0.030*\"changement\" + 0.030*\"alors\"'),\n",
       " (4,\n",
       "  '0.026*\"tout\" + 0.026*\"comprendre\" + 0.026*\"savoir\" + 0.026*\"quand\" + 0.026*\"expressions\"')]"
      ]
     },
     "execution_count": 43,
     "metadata": {},
     "output_type": "execute_result"
    }
   ],
   "source": [
    "lda_model_w.print_topics(num_words=5)"
   ]
  },
  {
   "cell_type": "code",
   "execution_count": 47,
   "metadata": {},
   "outputs": [],
   "source": [
    "# Visualize the topics\n",
    "#pd.options.display.max_colwidth = 1000\n",
    "Topics_visualization_d = pyLDAvis.gensim.prepare(lda_model_d, doc_term_matrix_d, dictionary_d, mds='tsne')\n",
    "Topics_visualization_w = pyLDAvis.gensim.prepare(lda_model_w, doc_term_matrix_w, dictionary_w, mds='tsne')"
   ]
  },
  {
   "cell_type": "code",
   "execution_count": 48,
   "metadata": {},
   "outputs": [
    {
     "name": "stdout",
     "output_type": "stream",
     "text": [
      "\n",
      "Note: if you're in the IPython notebook, pyLDAvis.show() is not the best command\n",
      "      to use. Consider using pyLDAvis.display(), or pyLDAvis.enable_notebook().\n",
      "      See more information at http://pyLDAvis.github.io/quickstart.html .\n",
      "\n",
      "You must interrupt the kernel to end this command\n",
      "\n",
      "Serving to http://127.0.0.1:8889/    [Ctrl-C to exit]\n"
     ]
    },
    {
     "name": "stderr",
     "output_type": "stream",
     "text": [
      "127.0.0.1 - - [15/Oct/2020 18:04:38] \"GET / HTTP/1.1\" 200 -\n",
      "127.0.0.1 - - [15/Oct/2020 18:04:38] \"GET /LDAvis.css HTTP/1.1\" 200 -\n",
      "127.0.0.1 - - [15/Oct/2020 18:04:38] \"GET /d3.js HTTP/1.1\" 200 -\n",
      "127.0.0.1 - - [15/Oct/2020 18:04:38] \"GET /LDAvis.js HTTP/1.1\" 200 -\n"
     ]
    },
    {
     "name": "stdout",
     "output_type": "stream",
     "text": [
      "\n",
      "stopping Server...\n"
     ]
    }
   ],
   "source": [
    "pyLDAvis.enable_notebook()\n",
    "Topics_visualization_w\n",
    "pyLDAvis.show(Topics_visualization_w)"
   ]
  }
 ],
 "metadata": {
  "kernelspec": {
   "display_name": "Python 3",
   "language": "python",
   "name": "python3"
  },
  "language_info": {
   "codemirror_mode": {
    "name": "ipython",
    "version": 3
   },
   "file_extension": ".py",
   "mimetype": "text/x-python",
   "name": "python",
   "nbconvert_exporter": "python",
   "pygments_lexer": "ipython3",
   "version": "3.8.5"
  }
 },
 "nbformat": 4,
 "nbformat_minor": 4
}

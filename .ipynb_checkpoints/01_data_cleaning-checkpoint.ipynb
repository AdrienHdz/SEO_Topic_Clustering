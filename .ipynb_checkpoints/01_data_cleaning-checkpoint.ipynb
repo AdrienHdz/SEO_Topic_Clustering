{
 "cells": [
  {
   "cell_type": "code",
   "execution_count": 1,
   "metadata": {},
   "outputs": [
    {
     "name": "stderr",
     "output_type": "stream",
     "text": [
      "[nltk_data] Downloading package punkt to\n",
      "[nltk_data]     C:\\Users\\adrie\\AppData\\Roaming\\nltk_data...\n",
      "[nltk_data]   Package punkt is already up-to-date!\n",
      "[nltk_data] Downloading package stopwords to\n",
      "[nltk_data]     C:\\Users\\adrie\\AppData\\Roaming\\nltk_data...\n",
      "[nltk_data]   Package stopwords is already up-to-date!\n"
     ]
    }
   ],
   "source": [
    "import pickle\n",
    "import nltk\n",
    "nltk.download('punkt')\n",
    "nltk.download('stopwords')\n",
    "import numpy as np\n",
    "import pandas as pd\n",
    "import seaborn as sns\n",
    "import matplotlib.pyplot as plt\n",
    "\n",
    "\n",
    "from nltk.tokenize import word_tokenize\n",
    "from nltk.corpus import stopwords"
   ]
  },
  {
   "cell_type": "code",
   "execution_count": 4,
   "metadata": {},
   "outputs": [],
   "source": [
    "with open(\"text_splitted_ecocompteur.txt\", \"rb\") as fp:\n",
    "    text_splitted_ecocompteur = pickle.load(fp)\n",
    "    \n",
    "with open(\"text_splitted_doctissimo.txt\", \"rb\") as fp:\n",
    "    text_splitted_doctissimo = pickle.load(fp)\n",
    "    \n",
    "with open(\"text_splitted_woopets.txt\", \"rb\") as fp:\n",
    "    text_splitted_woopets = pickle.load(fp)"
   ]
  },
  {
   "cell_type": "code",
   "execution_count": 14,
   "metadata": {},
   "outputs": [],
   "source": [
    "# Transforming sentences into lower text \n",
    "lower_sentences_e = [sentences.lower() for sentences in text_splitted_ecocompteur]\n",
    "lower_sentences_d = [sentences.lower() for sentences in text_splitted_doctissimo]\n",
    "lower_sentences_w = [sentences.lower() for sentences in text_splitted_woopets]\n",
    "\n",
    "# removing incorrect text\n",
    "lower_sentences_w = lower_sentences_w[:32]"
   ]
  },
  {
   "cell_type": "code",
   "execution_count": 50,
   "metadata": {},
   "outputs": [],
   "source": [
    "# Deleting some specific characters coming from html\n",
    "lower_sentences_e = [character.replace('\\n', '').replace('\\xa0','').replace('%', '').replace('—', '').replace(',', '').replace('’', '').replace('?','').replace(':','') for character in lower_sentences_e]\n",
    "lower_sentences_d = [character.replace('\\n', '').replace('\\xa0','').replace('%', '').replace('—', '').replace(',', '').replace('’', '').replace('?','').replace(':', '') for character in lower_sentences_d]\n",
    "lower_sentences_w = [character.replace('\\n', '').replace('\\xa0','').replace('%', '').replace('—', '').replace(',', '').replace('’', '').replace('?','').replace('\\r','').replace('membresommairepetit','').replace(':', '') for character in lower_sentences_w]"
   ]
  },
  {
   "cell_type": "markdown",
   "metadata": {},
   "source": [
    "### Tokenization"
   ]
  },
  {
   "cell_type": "code",
   "execution_count": 51,
   "metadata": {},
   "outputs": [],
   "source": [
    "tokenized_sentences_e = [word_tokenize(review) for review in lower_sentences_e]\n",
    "tokenized_sentences_d = [word_tokenize(review) for review in lower_sentences_d]\n",
    "tokenized_sentences_w = [word_tokenize(review) for review in lower_sentences_w]"
   ]
  },
  {
   "cell_type": "markdown",
   "metadata": {},
   "source": [
    "### Removing stopwords"
   ]
  },
  {
   "cell_type": "code",
   "execution_count": 52,
   "metadata": {},
   "outputs": [],
   "source": [
    "stopW_english = stopwords.words('english')\n",
    "stopW_french = stopwords.words('french')"
   ]
  },
  {
   "cell_type": "code",
   "execution_count": 53,
   "metadata": {},
   "outputs": [
    {
     "data": {
      "text/plain": [
       "[['espace',\n",
       "  'animal',\n",
       "  'sil',\n",
       "  'cochon',\n",
       "  'dinde',\n",
       "  'nen',\n",
       "  'autant',\n",
       "  'mauvais',\n",
       "  'communicant'],\n",
       " ['devez',\n",
       "  'savoir',\n",
       "  'déchiffrer',\n",
       "  'humeurs',\n",
       "  'joies',\n",
       "  'peines',\n",
       "  'savoir',\n",
       "  'lorsquil',\n",
       "  'pourrait',\n",
       "  'présenter',\n",
       "  'maladie',\n",
       "  'quand',\n",
       "  'va',\n",
       "  'forcément',\n",
       "  'bien',\n",
       "  'quand',\n",
       "  'heureux',\n",
       "  'compagnie'],\n",
       " ['devez', 'anticiper'],\n",
       " ['facile', 'forcément', 'langage', 'corporel', 'doit', 'aider'],\n",
       " ['donnons', 'quelques', 'pistes', 'déchiffrer'],\n",
       " ['a',\n",
       "  'linstar',\n",
       "  'chat',\n",
       "  'chien',\n",
       "  'cochon',\n",
       "  'dinde',\n",
       "  'possède',\n",
       "  'assez',\n",
       "  'bagages',\n",
       "  'parler',\n",
       "  'corps'],\n",
       " ['selon',\n",
       "  'postures',\n",
       "  'expressions',\n",
       "  'pourra',\n",
       "  'donner',\n",
       "  'clés',\n",
       "  'compréhension',\n",
       "  'clés',\n",
       "  'lecture',\n",
       "  'forme',\n",
       "  'moment'],\n",
       " ['transmettra', 'ondes', 'positives', 'négatives'],\n",
       " ['parlera', 'tout', 'simplement'],\n",
       " ['observez', 'bien', 'yeux', 'bouche', 'nez', 'cochon', 'dinde'],\n",
       " ['indiquera',\n",
       "  'biais',\n",
       "  'quelques',\n",
       "  'expressions',\n",
       "  'humeur',\n",
       "  'corps',\n",
       "  'tout',\n",
       "  'entier',\n",
       "  'permet',\n",
       "  'comprendre',\n",
       "  'cochon',\n",
       "  'dinde'],\n",
       " ['voici',\n",
       "  'clés',\n",
       "  'recevez',\n",
       "  'conseils',\n",
       "  'woopets',\n",
       "  'inscrivant',\n",
       "  'newsletter',\n",
       "  'parfois',\n",
       "  'cochon',\n",
       "  'dinde',\n",
       "  'présente',\n",
       "  'maladies',\n",
       "  'sait',\n",
       "  'vraiment',\n",
       "  'comment',\n",
       "  'dire'],\n",
       " ['alors',\n",
       "  'devrez',\n",
       "  'faire',\n",
       "  'attention',\n",
       "  'comportement',\n",
       "  'surtout',\n",
       "  'sil',\n",
       "  'change',\n",
       "  'dhabitude',\n",
       "  'lorsquun',\n",
       "  'changement',\n",
       "  'comportement',\n",
       "  'noter',\n",
       "  'cest',\n",
       "  'quil',\n",
       "  'a',\n",
       "  'cause',\n",
       "  'sous-jacente'],\n",
       " ['devez', 'donc', 'trouver'],\n",
       " ['après', 'reste', 'aussi', 'méthode', 'pesée'],\n",
       " ['cobaye', 'doit', 'jamais', 'perdre', 'poids'],\n",
       " ['plus', 'toujours', 'dose', 'vitamine', 'donner'],\n",
       " ['langage',\n",
       "  'corporel',\n",
       "  'cochon',\n",
       "  'dinde',\n",
       "  'adepte',\n",
       "  'sons',\n",
       "  'afin',\n",
       "  'compléter',\n",
       "  'palette',\n",
       "  'langages'],\n",
       " ['ainsi', 'pouvez', 'lentendre', 'roucouler', 'brièvement'],\n",
       " ['signe', 'peur', 'détonnement'],\n",
       " ['lorsque',\n",
       "  'caressez',\n",
       "  'lentendre',\n",
       "  'roucouler',\n",
       "  'linverse',\n",
       "  'signe',\n",
       "  'bonheur',\n",
       "  'dappréciation'],\n",
       " ['congénère',\n",
       "  'femelle',\n",
       "  'cest',\n",
       "  'bien',\n",
       "  'évidemment',\n",
       "  'sorte',\n",
       "  'roucoulement',\n",
       "  'amoureux'],\n",
       " ['a',\n",
       "  'lire',\n",
       "  'aussi',\n",
       "  'troubles',\n",
       "  'comportement',\n",
       "  'chez',\n",
       "  'cochon',\n",
       "  \"d'indevotre\",\n",
       "  'cochon',\n",
       "  'dinde',\n",
       "  'peut',\n",
       "  'essayer',\n",
       "  'parler'],\n",
       " ['alors', 'entendrez', 'petits', 'gloussements'],\n",
       " ['bonne', 'chance', 'comprendre', 'récompense', 'duo', 'efforts'],\n",
       " ['lorsquun',\n",
       "  'petit',\n",
       "  'gémissement',\n",
       "  'arrive',\n",
       "  'cest',\n",
       "  'rongeur',\n",
       "  'sent',\n",
       "  'forcément',\n",
       "  'très',\n",
       "  'bien'],\n",
       " ['enfin',\n",
       "  'entendrez',\n",
       "  'bruit',\n",
       "  'normalement',\n",
       "  'chaque',\n",
       "  'fois',\n",
       "  'préparerez',\n",
       "  'manger',\n",
       "  'petits',\n",
       "  'cris',\n",
       "  'aigus'],\n",
       " ['oui', 'cobaye', 'a', 'faim'],\n",
       " ['possible', 'comprendre', 'cochon', 'dinde', 'tout', 'long', 'vie'],\n",
       " ['sagira', 'simplement', 'faire', 'attention', 'postures', 'bruits'],\n",
       " ['peut',\n",
       "  'montrer',\n",
       "  'bonheur',\n",
       "  'tristesse',\n",
       "  'épanouissement',\n",
       "  'maladies',\n",
       "  'rien',\n",
       "  'quavec',\n",
       "  'corps',\n",
       "  'petits',\n",
       "  'cris'],\n",
       " ['attentif', 'lécoute']]"
      ]
     },
     "execution_count": 53,
     "metadata": {},
     "output_type": "execute_result"
    }
   ],
   "source": [
    "# We remove the stopwords from the dataset\n",
    "stopwords_sentences_e = [[token for token in review if token not in stopW_english] for review in tokenized_sentences_e]\n",
    "stopwords_sentences_d = [[token for token in review if token not in stopW_french] for review in tokenized_sentences_d]\n",
    "stopwords_sentences_w = [[token for token in review if token not in stopW_french] for review in tokenized_sentences_w]\n",
    "\n",
    "\n",
    "stopwords_sentences_w"
   ]
  },
  {
   "cell_type": "code",
   "execution_count": 54,
   "metadata": {},
   "outputs": [],
   "source": [
    "# Function to plot the most frequent words:\n",
    "def plot_freq_words(vector_of_words):    \n",
    "    distance = nltk.FreqDist(vector_of_words)\n",
    "    x = [number[1] for number in distance.most_common(20)]\n",
    "    y = [number[0] for number in distance.most_common(20)]\n",
    "    ax = sns.barplot(x,y)\n",
    "    ax.set(xlabel='Words frequency',ylabel='Words',title='Most common words in the corpus')\n",
    "    plt.show()"
   ]
  },
  {
   "cell_type": "code",
   "execution_count": 55,
   "metadata": {},
   "outputs": [
    {
     "name": "stderr",
     "output_type": "stream",
     "text": [
      "C:\\Users\\adrie\\Desktop\\bureau\\Ressources\\Webpage_Topic_Clustering\\.env\\lib\\site-packages\\seaborn\\_decorators.py:36: FutureWarning: Pass the following variables as keyword args: x, y. From version 0.12, the only valid positional argument will be `data`, and passing other arguments without an explicit keyword will result in an error or misinterpretation.\n",
      "  warnings.warn(\n"
     ]
    },
    {
     "data": {
      "image/png": "[encoded data removed]",
      "text/plain": [
       "<Figure size 432x288 with 1 Axes>"
      ]
     },
     "metadata": {
      "needs_background": "light"
     },
     "output_type": "display_data"
    },
    {
     "name": "stdout",
     "output_type": "stream",
     "text": [
      "942\n"
     ]
    }
   ],
   "source": [
    "words = []\n",
    "for sentence in tokenized_sentences_e:\n",
    "    for word in sentence:\n",
    "        words.append(word)\n",
    "\n",
    "plot_freq_words(words)\n",
    "print(len(words))"
   ]
  },
  {
   "cell_type": "code",
   "execution_count": 56,
   "metadata": {},
   "outputs": [
    {
     "name": "stderr",
     "output_type": "stream",
     "text": [
      "C:\\Users\\adrie\\Desktop\\bureau\\Ressources\\Webpage_Topic_Clustering\\.env\\lib\\site-packages\\seaborn\\_decorators.py:36: FutureWarning: Pass the following variables as keyword args: x, y. From version 0.12, the only valid positional argument will be `data`, and passing other arguments without an explicit keyword will result in an error or misinterpretation.\n",
      "  warnings.warn(\n"
     ]
    },
    {
     "data": {
      "image/png": "[encoded data removed]",
      "text/plain": [
       "<Figure size 432x288 with 1 Axes>"
      ]
     },
     "metadata": {
      "needs_background": "light"
     },
     "output_type": "display_data"
    },
    {
     "name": "stdout",
     "output_type": "stream",
     "text": [
      "550\n"
     ]
    }
   ],
   "source": [
    "words = []\n",
    "for sentence in stopwords_sentences_e:\n",
    "    for word in sentence:\n",
    "        words.append(word)\n",
    "\n",
    "plot_freq_words(words)\n",
    "print(len(words))"
   ]
  },
  {
   "cell_type": "code",
   "execution_count": 57,
   "metadata": {},
   "outputs": [
    {
     "name": "stderr",
     "output_type": "stream",
     "text": [
      "C:\\Users\\adrie\\Desktop\\bureau\\Ressources\\Webpage_Topic_Clustering\\.env\\lib\\site-packages\\seaborn\\_decorators.py:36: FutureWarning: Pass the following variables as keyword args: x, y. From version 0.12, the only valid positional argument will be `data`, and passing other arguments without an explicit keyword will result in an error or misinterpretation.\n",
      "  warnings.warn(\n"
     ]
    },
    {
     "data": {
      "image/png": "[encoded data removed]",
      "text/plain": [
       "<Figure size 432x288 with 1 Axes>"
      ]
     },
     "metadata": {
      "needs_background": "light"
     },
     "output_type": "display_data"
    },
    {
     "name": "stdout",
     "output_type": "stream",
     "text": [
      "508\n"
     ]
    }
   ],
   "source": [
    "words = []\n",
    "for sentence in tokenized_sentences_d:\n",
    "    for word in sentence:\n",
    "        words.append(word)\n",
    "\n",
    "plot_freq_words(words)\n",
    "print(len(words))"
   ]
  },
  {
   "cell_type": "code",
   "execution_count": 58,
   "metadata": {},
   "outputs": [
    {
     "name": "stderr",
     "output_type": "stream",
     "text": [
      "C:\\Users\\adrie\\Desktop\\bureau\\Ressources\\Webpage_Topic_Clustering\\.env\\lib\\site-packages\\seaborn\\_decorators.py:36: FutureWarning: Pass the following variables as keyword args: x, y. From version 0.12, the only valid positional argument will be `data`, and passing other arguments without an explicit keyword will result in an error or misinterpretation.\n",
      "  warnings.warn(\n"
     ]
    },
    {
     "data": {
      "image/png": "[encoded data removed]",
      "text/plain": [
       "<Figure size 432x288 with 1 Axes>"
      ]
     },
     "metadata": {
      "needs_background": "light"
     },
     "output_type": "display_data"
    },
    {
     "name": "stdout",
     "output_type": "stream",
     "text": [
      "279\n"
     ]
    }
   ],
   "source": [
    "words = []\n",
    "for sentence in stopwords_sentences_d:\n",
    "    for word in sentence:\n",
    "        words.append(word)\n",
    "\n",
    "plot_freq_words(words)\n",
    "print(len(words))"
   ]
  },
  {
   "cell_type": "code",
   "execution_count": 59,
   "metadata": {},
   "outputs": [
    {
     "name": "stderr",
     "output_type": "stream",
     "text": [
      "C:\\Users\\adrie\\Desktop\\bureau\\Ressources\\Webpage_Topic_Clustering\\.env\\lib\\site-packages\\seaborn\\_decorators.py:36: FutureWarning: Pass the following variables as keyword args: x, y. From version 0.12, the only valid positional argument will be `data`, and passing other arguments without an explicit keyword will result in an error or misinterpretation.\n",
      "  warnings.warn(\n"
     ]
    },
    {
     "data": {
      "image/png": "[encoded data removed]",
      "text/plain": [
       "<Figure size 432x288 with 1 Axes>"
      ]
     },
     "metadata": {
      "needs_background": "light"
     },
     "output_type": "display_data"
    },
    {
     "name": "stdout",
     "output_type": "stream",
     "text": [
      "440\n"
     ]
    }
   ],
   "source": [
    "words = []\n",
    "for sentence in tokenized_sentences_w:\n",
    "    for word in sentence:\n",
    "        words.append(word)\n",
    "\n",
    "plot_freq_words(words)\n",
    "print(len(words))"
   ]
  },
  {
   "cell_type": "code",
   "execution_count": 60,
   "metadata": {},
   "outputs": [
    {
     "name": "stderr",
     "output_type": "stream",
     "text": [
      "C:\\Users\\adrie\\Desktop\\bureau\\Ressources\\Webpage_Topic_Clustering\\.env\\lib\\site-packages\\seaborn\\_decorators.py:36: FutureWarning: Pass the following variables as keyword args: x, y. From version 0.12, the only valid positional argument will be `data`, and passing other arguments without an explicit keyword will result in an error or misinterpretation.\n",
      "  warnings.warn(\n"
     ]
    },
    {
     "data": {
      "image/png": "[encoded data removed]",
      "text/plain": [
       "<Figure size 432x288 with 1 Axes>"
      ]
     },
     "metadata": {
      "needs_background": "light"
     },
     "output_type": "display_data"
    },
    {
     "name": "stdout",
     "output_type": "stream",
     "text": [
      "247\n"
     ]
    }
   ],
   "source": [
    "words = []\n",
    "for sentence in stopwords_sentences_w:\n",
    "    for word in sentence:\n",
    "        words.append(word)\n",
    "\n",
    "plot_freq_words(words)\n",
    "print(len(words))"
   ]
  },
  {
   "cell_type": "code",
   "execution_count": 61,
   "metadata": {},
   "outputs": [],
   "source": [
    "with open(\"text_lemmentized_ecocompteur.txt\", \"wb\") as fp:\n",
    "    pickle.dump(stopwords_sentences_e, fp)\n",
    "    \n",
    "with open(\"text_lemmentized_doctissimo.txt\", \"wb\") as fp:\n",
    "    pickle.dump(stopwords_sentences_d, fp)\n",
    "    \n",
    "with open(\"text_lemmentized_woopets.txt\", \"wb\") as fp:\n",
    "    pickle.dump(stopwords_sentences_w, fp)"
   ]
  }
 ],
 "metadata": {
  "kernelspec": {
   "display_name": "Python 3",
   "language": "python",
   "name": "python3"
  },
  "language_info": {
   "codemirror_mode": {
    "name": "ipython",
    "version": 3
   },
   "file_extension": ".py",
   "mimetype": "text/x-python",
   "name": "python",
   "nbconvert_exporter": "python",
   "pygments_lexer": "ipython3",
   "version": "3.8.5"
  }
 },
 "nbformat": 4,
 "nbformat_minor": 4
}

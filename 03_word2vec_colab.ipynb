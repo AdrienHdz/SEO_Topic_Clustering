{
 "cells": [
  {
   "cell_type": "code",
   "execution_count": 1,
   "metadata": {
    "colab": {
     "base_uri": "https://localhost:8080/",
     "height": 52
    },
    "id": "Qnnmsn98Ivc6",
    "outputId": "a62762e3-7989-471b-d77d-2ed3e5d205ae"
   },
   "outputs": [
    {
     "name": "stdout",
     "output_type": "stream",
     "text": [
      "[nltk_data] Downloading package stopwords to /root/nltk_data...\n",
      "[nltk_data]   Package stopwords is already up-to-date!\n"
     ]
    }
   ],
   "source": [
    "import pickle\n",
    "import gensim\n",
    "from gensim.models.word2vec import Word2Vec\n",
    "import gensim.downloader as api\n",
    "from gensim.models import KeyedVectors\n",
    "from collections import Counter\n",
    "import operator\n",
    "import numpy as np\n",
    "import pandas as pd\n",
    "from sklearn.decomposition import PCA\n",
    "from sklearn.manifold import TSNE\n",
    "from sklearn.metrics.pairwise import cosine_similarity\n",
    "import nltk\n",
    "from nltk.corpus import stopwords\n",
    "nltk.download('stopwords')\n",
    "\n",
    "\n",
    "# visualization\n",
    "import matplotlib.pyplot as plt\n",
    "import seaborn as sns\n",
    "\n",
    "# magic command\n",
    "%matplotlib inline"
   ]
  },
  {
   "cell_type": "code",
   "execution_count": 2,
   "metadata": {
    "colab": {
     "base_uri": "https://localhost:8080/",
     "height": 193
    },
    "id": "hJ7s9y09Iw5h",
    "outputId": "f6d7f922-c8ee-49cd-a35f-f6bbf311a5e9"
   },
   "outputs": [
    {
     "name": "stdout",
     "output_type": "stream",
     "text": [
      "Requirement already satisfied: httplib2==0.15.0 in /usr/local/lib/python3.6/dist-packages (0.15.0)\n",
      "Requirement already satisfied: google-api-python-client==1.6 in /usr/local/lib/python3.6/dist-packages (1.6.0)\n",
      "Requirement already satisfied: httplib2<1dev,>=0.9.2 in /usr/local/lib/python3.6/dist-packages (from google-api-python-client==1.6) (0.15.0)\n",
      "Requirement already satisfied: six<2dev,>=1.6.1 in /usr/local/lib/python3.6/dist-packages (from google-api-python-client==1.6) (1.15.0)\n",
      "Requirement already satisfied: uritemplate<4dev,>=3.0.0 in /usr/local/lib/python3.6/dist-packages (from google-api-python-client==1.6) (3.0.1)\n",
      "Requirement already satisfied: oauth2client<5.0.0dev,>=1.5.0 in /usr/local/lib/python3.6/dist-packages (from google-api-python-client==1.6) (4.1.3)\n",
      "Requirement already satisfied: pyasn1>=0.1.7 in /usr/local/lib/python3.6/dist-packages (from oauth2client<5.0.0dev,>=1.5.0->google-api-python-client==1.6) (0.4.8)\n",
      "Requirement already satisfied: rsa>=3.1.4 in /usr/local/lib/python3.6/dist-packages (from oauth2client<5.0.0dev,>=1.5.0->google-api-python-client==1.6) (4.6)\n",
      "Requirement already satisfied: pyasn1-modules>=0.0.5 in /usr/local/lib/python3.6/dist-packages (from oauth2client<5.0.0dev,>=1.5.0->google-api-python-client==1.6) (0.2.8)\n"
     ]
    }
   ],
   "source": [
    "### Working with google drive\n",
    "!pip install httplib2==0.15.0\n",
    "!pip install google-api-python-client==1.6\n",
    "!pip install -U -q PyDrive\n",
    "from pydrive.auth import GoogleAuth\n",
    "from pydrive.drive import GoogleDrive\n",
    "from google.colab import auth\n",
    "from oauth2client.client import GoogleCredentials"
   ]
  },
  {
   "cell_type": "code",
   "execution_count": 3,
   "metadata": {
    "id": "W93e85yAI7o4"
   },
   "outputs": [],
   "source": [
    "# Authenticate and create the PyDrive client.\n",
    "auth.authenticate_user()\n",
    "gauth = GoogleAuth()\n",
    "gauth.credentials = GoogleCredentials.get_application_default()\n",
    "drive = GoogleDrive(gauth)"
   ]
  },
  {
   "cell_type": "markdown",
   "metadata": {
    "id": "nkG6HBn-m8a7"
   },
   "source": [
    "### Load data"
   ]
  },
  {
   "cell_type": "code",
   "execution_count": 4,
   "metadata": {
    "colab": {
     "base_uri": "https://localhost:8080/",
     "height": 35
    },
    "id": "a_zl4UysKbia",
    "outputId": "a255647d-c601-4d6f-ecde-8ef943922139"
   },
   "outputs": [
    {
     "name": "stdout",
     "output_type": "stream",
     "text": [
      "1bYsU-OqKzbBB6G3eauIsf0BZehrNdmj6\n"
     ]
    }
   ],
   "source": [
    "link = \"https://drive.google.com/file/d/1bYsU-OqKzbBB6G3eauIsf0BZehrNdmj6\"\n",
    "fluff, id = link.split('d/')\n",
    "print (id)\n",
    "downloaded = drive.CreateFile({'id':id}) \n",
    "downloaded.GetContentFile('text_lemmentized.txt')"
   ]
  },
  {
   "cell_type": "code",
   "execution_count": 5,
   "metadata": {
    "id": "umuHL_YpIvc9"
   },
   "outputs": [],
   "source": [
    "with open(\"text_lemmentized.txt\", \"rb\") as fp:\n",
    "    text_lemmentized = pickle.load(fp)"
   ]
  },
  {
   "cell_type": "code",
   "execution_count": 6,
   "metadata": {
    "colab": {
     "base_uri": "https://localhost:8080/",
     "height": 1000
    },
    "id": "Qlpn1DGTIvdA",
    "outputId": "67b669c6-c9f6-47ad-a20a-bae95fd675e9"
   },
   "outputs": [
    {
     "data": {
      "text/plain": [
       "[['across',\n",
       "  'north',\n",
       "  'america',\n",
       "  'planners',\n",
       "  'downtown',\n",
       "  'managers',\n",
       "  'health',\n",
       "  'experts',\n",
       "  'working',\n",
       "  'tirelessly',\n",
       "  'reinvent',\n",
       "  'public',\n",
       "  'space',\n",
       "  'social',\n",
       "  'distancing',\n",
       "  'light',\n",
       "  'covid-19',\n",
       "  'pandemic'],\n",
       " ['pop-up',\n",
       "  'bike',\n",
       "  'lanes',\n",
       "  'example',\n",
       "  'aim',\n",
       "  'give',\n",
       "  'people',\n",
       "  'safe',\n",
       "  'alternative',\n",
       "  'public',\n",
       "  'transit'],\n",
       " ['pedestrianization',\n",
       "  'projects',\n",
       "  'city',\n",
       "  'areas',\n",
       "  'downtown',\n",
       "  'streets',\n",
       "  'give',\n",
       "  'people',\n",
       "  'space',\n",
       "  'shop',\n",
       "  'support',\n",
       "  'favorite',\n",
       "  'local',\n",
       "  'businesses'],\n",
       " ['large',\n",
       "  'roads',\n",
       "  'vancouvers',\n",
       "  'stanley',\n",
       "  'park',\n",
       "  'closed',\n",
       "  'give',\n",
       "  'options',\n",
       "  'people',\n",
       "  'exercise',\n",
       "  'difficult',\n",
       "  'time'],\n",
       " ['pedestrianization',\n",
       "  'consists',\n",
       "  'converting',\n",
       "  'street',\n",
       "  'area',\n",
       "  'pedestrian-only',\n",
       "  'use'],\n",
       " ['usually',\n",
       "  'aims',\n",
       "  'provide',\n",
       "  'better',\n",
       "  'accessibility',\n",
       "  'mobilityfor',\n",
       "  'pedestrians',\n",
       "  'enhance',\n",
       "  'amount',\n",
       "  'shopping',\n",
       "  'business',\n",
       "  'activities',\n",
       "  'area',\n",
       "  'and/or',\n",
       "  'improve',\n",
       "  'attractiveness',\n",
       "  'local',\n",
       "  'environment',\n",
       "  'terms',\n",
       "  'aesthetics',\n",
       "  'air',\n",
       "  'pollution',\n",
       "  'noise',\n",
       "  'crashes',\n",
       "  'involving',\n",
       "  'motor',\n",
       "  'vehicles',\n",
       "  'pedestrians'],\n",
       " ['five',\n",
       "  'months',\n",
       "  'pandemic',\n",
       "  'stories',\n",
       "  'beginning',\n",
       "  'emerge',\n",
       "  'streets',\n",
       "  'changed'],\n",
       " ['kelowna',\n",
       "  'beautiful',\n",
       "  'mountain',\n",
       "  'city',\n",
       "  'canadas',\n",
       "  'british',\n",
       "  'columbia',\n",
       "  'province',\n",
       "  'planners',\n",
       "  'working',\n",
       "  'hard',\n",
       "  'strategic',\n",
       "  'city',\n",
       "  'areas',\n",
       "  'pedestrianization'],\n",
       " ['pedestrian',\n",
       "  'strategy',\n",
       "  'economic',\n",
       "  'recovery',\n",
       "  'strategy',\n",
       "  'oneat',\n",
       "  'end',\n",
       "  'june',\n",
       "  '2020',\n",
       "  'bernard',\n",
       "  'avenue',\n",
       "  '–',\n",
       "  'kelownas',\n",
       "  'main',\n",
       "  'commercial',\n",
       "  'street',\n",
       "  'busiest',\n",
       "  'pedestrian',\n",
       "  'corridor',\n",
       "  'featuring',\n",
       "  'shopping',\n",
       "  'bar',\n",
       "  'restaurant',\n",
       "  'destinations',\n",
       "  '–',\n",
       "  'pedestrianized'],\n",
       " ['stores',\n",
       "  'restaurants',\n",
       "  'street',\n",
       "  'given',\n",
       "  'opportunity',\n",
       "  'expand',\n",
       "  'outside',\n",
       "  'using',\n",
       "  'street',\n",
       "  'furniture',\n",
       "  'patio'],\n",
       " ['separated',\n",
       "  'walking',\n",
       "  'biking',\n",
       "  'corridor',\n",
       "  'installed',\n",
       "  'middle',\n",
       "  'street'],\n",
       " ['pedestrianization', 'remain', 'effect', 'second', 'weekend', 'september'],\n",
       " ['busy',\n",
       "  'patios',\n",
       "  'kelownas',\n",
       "  'bernard',\n",
       "  'avenue',\n",
       "  'post',\n",
       "  'pedestrianization',\n",
       "  'patios',\n",
       "  'cyclists',\n",
       "  'pedestrians',\n",
       "  'zones',\n",
       "  'reconfigured',\n",
       "  'streetthis',\n",
       "  'first',\n",
       "  'time',\n",
       "  'bernard',\n",
       "  'avenue',\n",
       "  'seen',\n",
       "  'pedestrian-friendly',\n",
       "  'redesign'],\n",
       " ['years',\n",
       "  'ago',\n",
       "  'part',\n",
       "  'downtown',\n",
       "  'revitalization',\n",
       "  'program',\n",
       "  'sidewalks',\n",
       "  'enlarged',\n",
       "  '4'],\n",
       " ['5m',\n",
       "  '(',\n",
       "  '15',\n",
       "  'foot',\n",
       "  ')',\n",
       "  'order',\n",
       "  'accommodate',\n",
       "  'pedestrian',\n",
       "  'traffic'],\n",
       " ['order',\n",
       "  'assess',\n",
       "  'impact',\n",
       "  'infrastructure',\n",
       "  'projects',\n",
       "  'like',\n",
       "  'track',\n",
       "  'growth',\n",
       "  'biking',\n",
       "  'walking',\n",
       "  'redesigned',\n",
       "  'area',\n",
       "  'communicate',\n",
       "  'stakeholders',\n",
       "  'city',\n",
       "  'kelowna',\n",
       "  'maintains',\n",
       "  'fleet',\n",
       "  'automated',\n",
       "  'people',\n",
       "  'counters',\n",
       "  'public',\n",
       "  'data',\n",
       "  'public',\n",
       "  'web',\n",
       "  'page',\n",
       "  'platform'],\n",
       " ['experience',\n",
       "  'hand',\n",
       "  'city',\n",
       "  'kelowna',\n",
       "  'saw',\n",
       "  'opportunity',\n",
       "  'take',\n",
       "  'data-driven',\n",
       "  'approach',\n",
       "  'pedestrianization',\n",
       "  'bernard',\n",
       "  'avenue',\n",
       "  'summer'],\n",
       " ['particular',\n",
       "  'wanted',\n",
       "  'understand',\n",
       "  'right',\n",
       "  'wayto',\n",
       "  'pedestrianize',\n",
       "  'street',\n",
       "  'able',\n",
       "  'communicate',\n",
       "  'answer',\n",
       "  'city',\n",
       "  'council',\n",
       "  'long',\n",
       "  'term',\n",
       "  'recommendations'],\n",
       " ['right',\n",
       "  'kind',\n",
       "  'street',\n",
       "  'closure',\n",
       "  'impact',\n",
       "  'businesses',\n",
       "  'made',\n",
       "  'permanent',\n",
       "  'maximize',\n",
       "  'benefits',\n",
       "  'allthe',\n",
       "  'city',\n",
       "  'used',\n",
       "  '6',\n",
       "  'pyro-box',\n",
       "  'people',\n",
       "  'counters',\n",
       "  'create',\n",
       "  'two',\n",
       "  'screenline',\n",
       "  'countsat',\n",
       "  'different',\n",
       "  'ends',\n",
       "  'street'],\n",
       " ['two',\n",
       "  'pyro-boxes',\n",
       "  'count',\n",
       "  'people',\n",
       "  'sidewalks',\n",
       "  'either',\n",
       "  'side',\n",
       "  'two-sided',\n",
       "  'pyro-box',\n",
       "  'counts',\n",
       "  'traffic',\n",
       "  'middle',\n",
       "  'street'],\n",
       " ['two',\n",
       "  'screenlines',\n",
       "  'place',\n",
       "  'city',\n",
       "  'good',\n",
       "  'understanding',\n",
       "  'level',\n",
       "  'activity',\n",
       "  'street'],\n",
       " ['last',\n",
       "  'summer',\n",
       "  'screenline',\n",
       "  'also',\n",
       "  'performed',\n",
       "  'bernard',\n",
       "  'avenue',\n",
       "  'allowing',\n",
       "  'meaningful',\n",
       "  'year-on-year',\n",
       "  'comparisons',\n",
       "  'data'],\n",
       " ['distanced',\n",
       "  'busy',\n",
       "  'patio',\n",
       "  'summers',\n",
       "  'day',\n",
       "  'kelownaa',\n",
       "  'little',\n",
       "  'one',\n",
       "  'month',\n",
       "  'project',\n",
       "  'street',\n",
       "  'seeing',\n",
       "  'staggering',\n",
       "  'pedestrian',\n",
       "  'count',\n",
       "  'numbers'],\n",
       " ['counters',\n",
       "  'installed',\n",
       "  'week',\n",
       "  'project',\n",
       "  'launched',\n",
       "  'order',\n",
       "  'capture',\n",
       "  'impact',\n",
       "  'counts',\n",
       "  'spiked',\n",
       "  'immediately',\n",
       "  'upon',\n",
       "  'pedestrianization',\n",
       "  'june',\n",
       "  '29th'],\n",
       " ['average',\n",
       "  'counts',\n",
       "  'approximately',\n",
       "  '100',\n",
       "  'higher',\n",
       "  'period',\n",
       "  'last',\n",
       "  'year'],\n",
       " ['according',\n",
       "  'matt',\n",
       "  'worona',\n",
       "  'new',\n",
       "  'mobility',\n",
       "  'specialist',\n",
       "  'city',\n",
       "  'kelowna',\n",
       "  'busiest',\n",
       "  'day',\n",
       "  '2019',\n",
       "  '‘',\n",
       "  'regular',\n",
       "  'thursday',\n",
       "  '2020'],\n",
       " ['particularly',\n",
       "  'busy',\n",
       "  'weekend',\n",
       "  'july',\n",
       "  '4th',\n",
       "  '5th',\n",
       "  'example',\n",
       "  'daily',\n",
       "  'people',\n",
       "  'counts',\n",
       "  'around',\n",
       "  '25000',\n",
       "  'compared',\n",
       "  'around',\n",
       "  '10000',\n",
       "  'per',\n",
       "  'day',\n",
       "  'last',\n",
       "  'year'],\n",
       " ['data',\n",
       "  'analyzed',\n",
       "  'daily',\n",
       "  'basis',\n",
       "  'undergoes',\n",
       "  'qc',\n",
       "  'process',\n",
       "  'averages',\n",
       "  'impact',\n",
       "  'weather',\n",
       "  'differences',\n",
       "  'days',\n",
       "  'week',\n",
       "  'holidays',\n",
       "  '2019',\n",
       "  'vs'],\n",
       " ['2020'],\n",
       " ['2020', 'vs'],\n",
       " ['2019',\n",
       "  'people',\n",
       "  'count',\n",
       "  'data',\n",
       "  'kelownas',\n",
       "  'bernard',\n",
       "  'avenuecommunicating',\n",
       "  'local',\n",
       "  'businesses',\n",
       "  'publiceach',\n",
       "  'day',\n",
       "  'pedestrian',\n",
       "  'count',\n",
       "  'data',\n",
       "  '–including',\n",
       "  'year-on-year',\n",
       "  'change-',\n",
       "  'shared',\n",
       "  'local',\n",
       "  'business',\n",
       "  'improvement',\n",
       "  'district',\n",
       "  '(',\n",
       "  'bid',\n",
       "  ')',\n",
       "  'ensure',\n",
       "  'transparency',\n",
       "  'enable',\n",
       "  'bid',\n",
       "  'fully',\n",
       "  'understand',\n",
       "  'impact',\n",
       "  'pedestrianization'],\n",
       " ['datasharing',\n",
       "  'local',\n",
       "  'businesses',\n",
       "  'engaged',\n",
       "  'project',\n",
       "  'able',\n",
       "  'adjust',\n",
       "  'commercial',\n",
       "  'activities',\n",
       "  'accommodate',\n",
       "  'covid',\n",
       "  'measures',\n",
       "  'increased',\n",
       "  'footfall'],\n",
       " ['retail',\n",
       "  'sales',\n",
       "  'city',\n",
       "  'able',\n",
       "  'show',\n",
       "  'drop',\n",
       "  'due',\n",
       "  'lack',\n",
       "  'people',\n",
       "  'street',\n",
       "  'likely',\n",
       "  'attributed',\n",
       "  'covid',\n",
       "  'factors'],\n",
       " ['sales', 'data', 'justify', 'project'],\n",
       " ['people', 'count', 'data', 'also', 'shared', 'local', 'media', 'outlets'],\n",
       " ['matt',\n",
       "  'worona',\n",
       "  'explained',\n",
       "  'point',\n",
       "  'media',\n",
       "  'become',\n",
       "  'accustomed',\n",
       "  'receiving',\n",
       "  'count',\n",
       "  'data',\n",
       "  'begun',\n",
       "  'expect',\n",
       "  'wake',\n",
       "  'bike',\n",
       "  'pedestrian',\n",
       "  'projects'],\n",
       " ['watch',\n",
       "  'spacein',\n",
       "  'long',\n",
       "  'run',\n",
       "  'pedestrian',\n",
       "  'count',\n",
       "  'data',\n",
       "  'serve',\n",
       "  'key',\n",
       "  'kpi',\n",
       "  'assessing',\n",
       "  'success',\n",
       "  'summers',\n",
       "  'project'],\n",
       " ['count',\n",
       "  'data',\n",
       "  'combined',\n",
       "  'kpis',\n",
       "  'including',\n",
       "  'merchant',\n",
       "  'satisfaction',\n",
       "  'surveys',\n",
       "  'public',\n",
       "  'life',\n",
       "  'study'],\n",
       " ['together',\n",
       "  'data',\n",
       "  'allow',\n",
       "  'matt',\n",
       "  'team',\n",
       "  'get',\n",
       "  'heart',\n",
       "  'questions',\n",
       "  'originally',\n",
       "  'set',\n",
       "  'answer',\n",
       "  'notably',\n",
       "  ':',\n",
       "  'right',\n",
       "  'way',\n",
       "  'street',\n",
       "  'closurekeep',\n",
       "  'eye',\n",
       "  'fall',\n",
       "  'check-in',\n",
       "  'pedestrianization',\n",
       "  'project',\n",
       "  'see',\n",
       "  'things',\n",
       "  'turned'],\n",
       " ['photo', 'credits', ':', 'matt', 'worona', 'city', 'kelowna']]"
      ]
     },
     "execution_count": 6,
     "metadata": {
      "tags": []
     },
     "output_type": "execute_result"
    }
   ],
   "source": [
    "text_lemmentized"
   ]
  },
  {
   "cell_type": "code",
   "execution_count": 7,
   "metadata": {
    "id": "VJmJ0yQzIvdC"
   },
   "outputs": [],
   "source": [
    "my_q = 300 \n",
    "mcount = 10  \n",
    "\n",
    "# wv = Word2Vec(size = my_q, min_count = mcount)\n",
    "# wv.build_vocab(text_lemmentized)"
   ]
  },
  {
   "cell_type": "code",
   "execution_count": 8,
   "metadata": {
    "colab": {
     "base_uri": "https://localhost:8080/",
     "height": 72
    },
    "id": "nZGBztf7IvdF",
    "outputId": "9f6cd3e9-2791-42c4-c6f8-a5d2cc66204a"
   },
   "outputs": [
    {
     "name": "stderr",
     "output_type": "stream",
     "text": [
      "/usr/local/lib/python3.6/dist-packages/smart_open/smart_open_lib.py:252: UserWarning: This function is deprecated, use smart_open.open instead. See the migration notes for details: https://github.com/RaRe-Technologies/smart_open/blob/master/README.rst#migrating-to-the-new-open-function\n",
      "  'See the migration notes for details: %s' % _MIGRATION_NOTES_URL\n"
     ]
    }
   ],
   "source": [
    "# Download pre-trained word2vec\n",
    "#googlenews = wget.download(\"https://s3.amazonaws.com/dl4j-distribution/GoogleNews-vectors-negative300.bin.gz\")\n",
    "#wv = api.load('word2vec-google-news-300')"
   ]
  },
  {
   "cell_type": "code",
   "execution_count": 10,
   "metadata": {
    "id": "mLYPo_RiIvdH"
   },
   "outputs": [],
   "source": [
    "# wv = KeyedVectors.load('word2vec-google-news-300', mmap='r')"
   ]
  },
  {
   "cell_type": "code",
   "execution_count": 11,
   "metadata": {
    "colab": {
     "base_uri": "https://localhost:8080/",
     "height": 35
    },
    "id": "LmXqzZ7jIvdJ",
    "outputId": "c2bb0b2d-1aba-49bd-cd5b-5024d5580715"
   },
   "outputs": [
    {
     "data": {
      "text/plain": [
       "(300,)"
      ]
     },
     "execution_count": 11,
     "metadata": {
      "tags": []
     },
     "output_type": "execute_result"
    }
   ],
   "source": [
    "wv['city'].shape"
   ]
  },
  {
   "cell_type": "code",
   "execution_count": 12,
   "metadata": {
    "id": "WRjWorC7IvdM"
   },
   "outputs": [],
   "source": [
    "def my_vector_getter(word, wv) :\n",
    "    try:\n",
    "        word_array = wv[word].reshape(1,-1)\n",
    "        return word_array\n",
    "    except KeyError:\n",
    "        print('word: <', word, '> not in vocabulary!')"
   ]
  },
  {
   "cell_type": "code",
   "execution_count": 13,
   "metadata": {
    "colab": {
     "base_uri": "https://localhost:8080/",
     "height": 35
    },
    "id": "ldRyChvcIvdO",
    "outputId": "39209447-cdc8-4c91-b4a7-4e9b15dabd26"
   },
   "outputs": [
    {
     "data": {
      "text/plain": [
       "(1, 300)"
      ]
     },
     "execution_count": 13,
     "metadata": {
      "tags": []
     },
     "output_type": "execute_result"
    }
   ],
   "source": [
    "my_vector_getter('best', wv).shape"
   ]
  },
  {
   "cell_type": "code",
   "execution_count": 14,
   "metadata": {
    "colab": {
     "base_uri": "https://localhost:8080/",
     "height": 245
    },
    "id": "h0G6otCAIvdV",
    "outputId": "716e0ab3-89bf-48e6-e732-bdee132ef934"
   },
   "outputs": [
    {
     "name": "stderr",
     "output_type": "stream",
     "text": [
      "/usr/local/lib/python3.6/dist-packages/gensim/matutils.py:737: FutureWarning: Conversion of the second argument of issubdtype from `int` to `np.signedinteger` is deprecated. In future, it will be treated as `np.int64 == np.dtype(int).type`.\n",
      "  if np.issubdtype(vec.dtype, np.int):\n"
     ]
    },
    {
     "data": {
      "text/plain": [
       "[('coffees', 0.721267819404602),\n",
       " ('gourmet_coffee', 0.7057087421417236),\n",
       " ('Coffee', 0.6900455355644226),\n",
       " ('o_joe', 0.6891065835952759),\n",
       " ('Starbucks_coffee', 0.6874972581863403),\n",
       " ('coffee_beans', 0.6749703884124756),\n",
       " ('latté', 0.664122462272644),\n",
       " ('cappuccino', 0.6625496745109558),\n",
       " ('brewed_coffee', 0.6621608734130859),\n",
       " ('espresso', 0.6616826057434082)]"
      ]
     },
     "execution_count": 14,
     "metadata": {
      "tags": []
     },
     "output_type": "execute_result"
    }
   ],
   "source": [
    "wv.similar_by_word('coffee')"
   ]
  },
  {
   "cell_type": "code",
   "execution_count": 15,
   "metadata": {
    "colab": {
     "base_uri": "https://localhost:8080/",
     "height": 245
    },
    "id": "qBc53bCnIvdX",
    "outputId": "92180006-d524-4d2f-838d-bf1a204ad75d"
   },
   "outputs": [
    {
     "name": "stderr",
     "output_type": "stream",
     "text": [
      "/usr/local/lib/python3.6/dist-packages/gensim/matutils.py:737: FutureWarning: Conversion of the second argument of issubdtype from `int` to `np.signedinteger` is deprecated. In future, it will be treated as `np.int64 == np.dtype(int).type`.\n",
      "  if np.issubdtype(vec.dtype, np.int):\n"
     ]
    },
    {
     "data": {
      "text/plain": [
       "[('rooms', 0.5509061813354492),\n",
       " ('hallway', 0.4537449777126312),\n",
       " ('windowless_room', 0.42262494564056396),\n",
       " ('bathroom', 0.4098401665687561),\n",
       " ('anteroom', 0.406741738319397),\n",
       " ('dining_room', 0.39797571301460266),\n",
       " ('bedroom', 0.3851267993450165),\n",
       " ('basement', 0.385107159614563),\n",
       " ('air_conditioning_vent', 0.3773285448551178),\n",
       " ('broom_closet', 0.3708730936050415)]"
      ]
     },
     "execution_count": 15,
     "metadata": {
      "tags": []
     },
     "output_type": "execute_result"
    }
   ],
   "source": [
    "wv.most_similar(positive = ['room'], negative = ['great'])"
   ]
  },
  {
   "cell_type": "code",
   "execution_count": 16,
   "metadata": {
    "colab": {
     "base_uri": "https://localhost:8080/",
     "height": 35
    },
    "id": "B6pNkQnQYmTf",
    "outputId": "e983e77a-6afe-4eac-c5b7-572296b31736"
   },
   "outputs": [
    {
     "data": {
      "text/plain": [
       "362"
      ]
     },
     "execution_count": 16,
     "metadata": {
      "tags": []
     },
     "output_type": "execute_result"
    }
   ],
   "source": [
    "all_tokens = [token for sublist in text_lemmentized for token in sublist]\n",
    "t_counts = dict(Counter(all_tokens))\n",
    "len(t_counts)"
   ]
  },
  {
   "cell_type": "code",
   "execution_count": 17,
   "metadata": {
    "id": "WvZvLIIKY89U"
   },
   "outputs": [],
   "source": [
    "n_most_fqt = 200\n",
    "sorted_t_counts = sorted(t_counts.items(), key = operator.itemgetter(1), reverse = True)\n",
    "mft = [elt[0] for elt in sorted_t_counts[:n_most_fqt]]"
   ]
  },
  {
   "cell_type": "code",
   "execution_count": 18,
   "metadata": {
    "id": "20KI2ylPaSoC"
   },
   "outputs": [],
   "source": [
    "# Filter words from the dictionnary that are not present in word2vec\n",
    "vector_list = [word for word in mft if word in wv.vocab]"
   ]
  },
  {
   "cell_type": "code",
   "execution_count": 19,
   "metadata": {
    "id": "nvsYVrUnZpZE"
   },
   "outputs": [],
   "source": [
    "mft_vecs = np.zeros((n_most_fqt, my_q))\n",
    "\n",
    "for idx,token in enumerate(vector_list):\n",
    "  mft_vecs[idx,:] = wv[token]"
   ]
  },
  {
   "cell_type": "code",
   "execution_count": 20,
   "metadata": {
    "colab": {
     "base_uri": "https://localhost:8080/",
     "height": 35
    },
    "id": "jkswcC_HZvBh",
    "outputId": "4d5f5831-6372-4c7b-f6c4-4dd3afc50aac"
   },
   "outputs": [
    {
     "data": {
      "text/plain": [
       "176"
      ]
     },
     "execution_count": 20,
     "metadata": {
      "tags": []
     },
     "output_type": "execute_result"
    }
   ],
   "source": [
    "len(vector_list)"
   ]
  },
  {
   "cell_type": "code",
   "execution_count": 33,
   "metadata": {
    "colab": {
     "base_uri": "https://localhost:8080/",
     "height": 513
    },
    "id": "VBG1V6QNhDei",
    "outputId": "ac5ef2a2-cb8c-42d1-a1d6-3766a01a93dd"
   },
   "outputs": [
    {
     "data": {
      "text/plain": [
       "<Figure size 1440x720 with 0 Axes>"
      ]
     },
     "metadata": {
      "tags": []
     },
     "output_type": "display_data"
    },
    {
     "data": {
      "image/png": "[encoded data removed]",
      "text/plain": [
       "<Figure size 1440x720 with 1 Axes>"
      ]
     },
     "metadata": {
      "needs_background": "light",
      "tags": []
     },
     "output_type": "display_data"
    }
   ],
   "source": [
    "path_to_plots = ''\n",
    "my_pca = PCA(n_components=5)\n",
    "my_tsne = TSNE(n_components=2)\n",
    "\n",
    "mft_vecs_pca = my_pca.fit_transform(mft_vecs[:len(vector_list)])\n",
    "mft_vecs_tsne = my_tsne.fit_transform(mft_vecs_pca)\n",
    "\n",
    "\n",
    "plt.figure(figsize=(20, 10))\n",
    "fig, ax = plt.subplots()\n",
    "ax.scatter(mft_vecs_tsne[:,0], mft_vecs_tsne[:,1],s=3)\n",
    "for x, y, token in zip(mft_vecs_tsne[:,0] , mft_vecs_tsne[:,1], vector_list):     \n",
    "    ax.annotate(token, xy=(x, y), size=8)\n",
    "fig.suptitle('t-SNE visualization of word embeddings',fontsize=20)\n",
    "fig.set_size_inches(20,10)\n",
    "fig.savefig(path_to_plots + 'word_embeddings.png',dpi=300)\n",
    "fig.show()"
   ]
  },
  {
   "cell_type": "code",
   "execution_count": 28,
   "metadata": {
    "colab": {
     "base_uri": "https://localhost:8080/",
     "height": 1000
    },
    "id": "DASmMMfnucI3",
    "outputId": "aa60802b-b7f4-44d2-906f-b5edc4310004"
   },
   "outputs": [
    {
     "data": {
      "text/plain": [
       "array([[ 1.06211286e+00,  4.27011649e-01,  4.49250120e-01,\n",
       "         2.95213672e-01,  1.14990666e-01],\n",
       "       [ 7.71535300e-01,  4.36550440e-02,  1.93280521e-01,\n",
       "        -2.62065494e-01,  5.06388548e-01],\n",
       "       [-3.03762198e-01, -1.36842024e-01, -3.59800909e-01,\n",
       "        -6.70340644e-01,  1.09359339e-01],\n",
       "       [ 7.68880170e-02,  9.03364149e-02,  1.79567603e-01,\n",
       "        -3.75803696e-01,  1.61878290e-01],\n",
       "       [ 2.40858095e+00, -3.27589518e-02, -1.20226893e+00,\n",
       "         2.46084719e-01, -3.65807776e-01],\n",
       "       [-5.11411773e-01,  2.25099883e-01,  3.88151670e-01,\n",
       "        -4.01818952e-02, -4.32607090e-01],\n",
       "       [ 1.71278564e+00,  1.28092431e-01, -1.45772431e-01,\n",
       "        -1.72902744e-01, -1.07086433e+00],\n",
       "       [-1.26647071e-01, -3.13564215e-02,  6.19614900e-02,\n",
       "        -1.14080772e-01,  4.90465395e-01],\n",
       "       [-4.17889517e-01,  1.28681238e+00, -4.77345605e-01,\n",
       "         3.26818062e-01,  7.38748798e-02],\n",
       "       [ 1.53690235e-01, -5.33005763e-01, -5.17213841e-01,\n",
       "        -3.61324883e-01,  3.87460223e-01],\n",
       "       [ 4.51856688e-02, -9.87063519e-02, -7.88069156e-02,\n",
       "        -3.14963899e-01,  6.49688120e-02],\n",
       "       [ 5.42004528e-01, -1.74439039e-01, -1.41092019e-01,\n",
       "         1.35641780e-01,  2.65523514e-01],\n",
       "       [-4.06362460e-01, -4.71808786e-01, -3.24063299e-01,\n",
       "        -2.07880493e-01, -7.42834471e-02],\n",
       "       [ 3.04038289e-01, -6.21456611e-01, -6.30925570e-04,\n",
       "        -2.03665593e-01,  1.04531809e+00],\n",
       "       [-4.71265425e-01,  2.35590474e-03,  4.12639036e-01,\n",
       "        -1.45695784e-01, -3.59601198e-01],\n",
       "       [-3.88240966e-01,  3.05051021e-01,  8.12699498e-01,\n",
       "        -3.00104780e-01, -3.58742275e-02],\n",
       "       [-3.40237392e-01,  1.94846802e+00, -1.19638335e+00,\n",
       "         6.59828081e-01, -3.65494901e-02],\n",
       "       [ 1.23887673e+00, -9.82863712e-02,  3.03343978e-01,\n",
       "         3.88693273e-01,  7.17435848e-01],\n",
       "       [-5.93976852e-01, -2.06369792e-01, -9.97870751e-02,\n",
       "         3.22724933e-01, -2.59039581e-01],\n",
       "       [ 2.00790220e-01, -6.24927900e-01, -3.40472703e-01,\n",
       "        -6.61502916e-01,  7.28666326e-01],\n",
       "       [ 4.02713739e-01, -3.73830631e-02,  1.76073023e-01,\n",
       "        -9.51399114e-02,  4.92205820e-01],\n",
       "       [ 2.16523892e+00,  1.30079138e-01,  5.87939315e-02,\n",
       "        -3.52867367e-01, -9.98307996e-01],\n",
       "       [ 2.12005439e-01, -8.07144726e-03,  6.33337486e-01,\n",
       "         1.65504805e-01, -2.84065555e-01],\n",
       "       [-4.45701436e-01, -1.57640952e-02, -1.01066352e-01,\n",
       "         5.62662587e-02,  1.32006068e-02],\n",
       "       [ 4.27805196e-02,  7.08532697e-02,  1.58710089e-01,\n",
       "         5.62028728e-01,  2.30115718e-01],\n",
       "       [-4.32357806e-01,  5.90191682e-02,  1.46623951e-01,\n",
       "         2.60005375e-01, -2.31795005e-01],\n",
       "       [-5.22992036e-01, -2.41805382e-01,  8.77404113e-02,\n",
       "         1.78262466e-01, -3.98455884e-01],\n",
       "       [-4.24705836e-01,  7.82077750e-03,  6.77374344e-01,\n",
       "         6.30772244e-02, -3.38161115e-01],\n",
       "       [-5.09275852e-01,  7.89588850e-02,  6.43483021e-01,\n",
       "        -1.15760585e-01, -1.73481225e-01],\n",
       "       [ 5.66242712e-01, -6.95572937e-01, -4.10334755e-01,\n",
       "        -4.56650672e-01,  1.59665213e-01],\n",
       "       [-4.15963354e-01, -3.40345093e-01,  1.76432868e-01,\n",
       "         8.77631481e-02, -1.29234059e-01],\n",
       "       [ 1.79805418e-01, -3.16301548e-01, -1.01313787e-01,\n",
       "         3.35997502e-01,  6.68704876e-02],\n",
       "       [-1.30292478e-01, -2.17824060e-01, -2.66003667e-01,\n",
       "        -1.10384515e+00, -3.03953684e-02],\n",
       "       [ 1.00291511e+00,  5.90412198e-01,  3.43854938e-01,\n",
       "        -2.62699518e-01, -3.73862302e-01],\n",
       "       [-4.32070534e-01, -1.33200983e-01,  5.55019635e-02,\n",
       "        -8.40420545e-02,  1.60240484e-01],\n",
       "       [ 3.51661590e-01, -2.57812160e-01, -8.85137238e-02,\n",
       "        -5.14752496e-01,  5.91384624e-01],\n",
       "       [ 1.48353107e+00,  4.74021756e-01,  3.65397421e-01,\n",
       "        -2.08507160e-01,  3.17575057e-02],\n",
       "       [-4.72474864e-01,  7.13368108e-02,  6.02274864e-01,\n",
       "        -1.68837323e-01, -1.08965386e-01],\n",
       "       [ 7.37000783e-01, -7.80329377e-02,  2.31344333e-01,\n",
       "         2.72038189e-01,  6.16388203e-01],\n",
       "       [-1.14356115e-01, -4.13907066e-01, -7.15005150e-02,\n",
       "        -3.54065244e-02,  7.66248949e-01],\n",
       "       [-1.14404347e-01, -2.21729569e-01, -1.17413127e-01,\n",
       "        -4.12629614e-01,  3.99112957e-01],\n",
       "       [-4.03167332e-01, -5.26251020e-01, -5.97547575e-01,\n",
       "        -3.29857470e-01,  2.65433898e-01],\n",
       "       [-6.73104744e-01,  2.09397078e+00, -7.62650902e-01,\n",
       "        -1.95347899e-01,  4.54405770e-01],\n",
       "       [-7.59736119e-02, -2.12799046e-01, -1.71345108e-01,\n",
       "        -7.07449183e-02,  3.67932610e-01],\n",
       "       [ 5.53927890e-01, -1.73868752e-01,  9.05582169e-01,\n",
       "        -1.12362645e-01, -5.29683255e-01],\n",
       "       [ 1.26700443e+00, -3.12664341e-01, -3.10725362e-01,\n",
       "        -2.58275854e-01,  1.58315714e-01],\n",
       "       [-4.75420462e-01, -5.01203022e-01,  1.60714886e-02,\n",
       "         9.77794971e-03,  1.32555294e-01],\n",
       "       [ 7.53380911e-01,  4.70740077e-01,  4.89126024e-01,\n",
       "         1.66123730e+00,  8.63036680e-01],\n",
       "       [ 5.85064328e-01,  1.88359504e-01,  4.40115102e-01,\n",
       "         1.74351145e-01, -5.34500782e-01],\n",
       "       [ 1.26291674e+00,  4.32271341e-01,  1.88679496e-01,\n",
       "        -6.17941489e-01, -2.32997364e-01],\n",
       "       [-5.28689837e-02, -9.23019060e-02, -1.85809994e-01,\n",
       "         7.59821801e-01, -5.39272371e-01],\n",
       "       [-1.76785315e-01,  3.35065875e-02,  3.66069152e-01,\n",
       "         1.38499970e-01, -2.43221431e-01],\n",
       "       [-1.85390717e-01,  2.83274322e-01,  9.34084528e-01,\n",
       "        -2.95443364e-01,  9.90508116e-02],\n",
       "       [ 1.33827110e+00,  3.29207399e-01,  2.19230909e-01,\n",
       "         1.55988963e+00,  8.02609004e-01],\n",
       "       [ 2.16425850e+00,  1.60888974e-01,  5.97825052e-02,\n",
       "         3.53637755e-01, -1.69258984e-02],\n",
       "       [ 2.70111757e-02, -6.66752868e-01, -2.78193530e-01,\n",
       "         9.28786106e-01, -6.07026411e-01],\n",
       "       [ 1.20607412e+00,  2.18653818e-02,  1.12581877e-01,\n",
       "        -5.90263113e-01, -6.19370279e-01],\n",
       "       [-3.98577134e-01, -5.45476847e-01, -5.15359069e-01,\n",
       "         2.89007127e-01, -3.41723486e-01],\n",
       "       [-2.99230759e-01,  1.17276653e-01,  8.75549037e-01,\n",
       "        -1.50284973e-01,  2.98504506e-01],\n",
       "       [-5.00990157e-01, -2.76354045e-01, -3.15570279e-01,\n",
       "         5.65589253e-02, -1.67966882e-01],\n",
       "       [-4.78265521e-01, -2.13280668e-01,  1.33985473e-01,\n",
       "         2.01261588e-01, -3.49307715e-01],\n",
       "       [-4.02506152e-01, -1.20117649e-01,  2.81505381e-01,\n",
       "        -3.78057148e-02, -7.10415100e-02],\n",
       "       [-3.86593866e-01, -2.59716504e-01,  1.50921069e-01,\n",
       "         4.82498964e-02, -6.82123097e-03],\n",
       "       [-1.72192005e-01,  1.75043833e-01,  1.26803267e+00,\n",
       "        -2.50488840e-01,  4.51995286e-01],\n",
       "       [-5.24556492e-01,  1.00446228e-01,  8.52848425e-01,\n",
       "        -3.12205738e-01,  7.24730390e-02],\n",
       "       [-5.35745990e-01,  8.48907975e-02,  7.73235972e-01,\n",
       "        -2.51066122e-01,  6.72470067e-02],\n",
       "       [-2.23013959e-01,  1.34423877e-01,  3.40689229e-01,\n",
       "        -2.92616047e-01,  8.12447353e-02],\n",
       "       [-1.62825363e-01,  1.79987562e-01,  3.73308756e-01,\n",
       "         5.53985659e-03, -1.86378720e-01],\n",
       "       [-8.91225529e-01,  1.17657519e+00, -5.88247445e-01,\n",
       "        -4.92498547e-02, -1.86586212e-01],\n",
       "       [-4.40649854e-01, -2.89067802e-01,  1.20148624e-01,\n",
       "         3.18721112e-01, -2.77929854e-01],\n",
       "       [-3.10564305e-01, -1.05733387e-01, -1.60962188e-01,\n",
       "        -2.27597462e-01, -2.59722246e-03],\n",
       "       [-1.68580953e-01, -3.01624366e-01,  8.28998513e-02,\n",
       "        -7.78622534e-02,  6.48819712e-01],\n",
       "       [-3.85110605e-01,  5.92890656e-02, -1.12505070e-01,\n",
       "        -2.03909130e-01,  5.85495222e-02],\n",
       "       [-1.87677197e-01, -7.60401920e-02,  2.06735494e-01,\n",
       "        -5.40128179e-03, -9.54204047e-02],\n",
       "       [ 3.60947083e-01,  1.89767434e-01,  2.82319608e-01,\n",
       "        -1.01548071e-01,  2.60478912e-02],\n",
       "       [-7.37648923e-01,  2.09224340e+00, -1.14061711e+00,\n",
       "        -2.14173396e-01,  6.21954978e-01],\n",
       "       [-3.26607262e-01, -4.32572707e-01,  1.45189433e-01,\n",
       "        -2.30225144e-01,  2.43953463e-01],\n",
       "       [-8.32385999e-02, -1.20646704e-01, -3.08884432e-01,\n",
       "        -4.19374048e-01,  3.98634560e-01],\n",
       "       [-4.01765017e-01, -2.37179098e-01, -1.15070407e-01,\n",
       "        -4.98025073e-01,  2.14523601e-01],\n",
       "       [-2.80141853e-01, -1.54795853e-01,  1.20601892e-01,\n",
       "        -2.35050990e-01, -1.32650550e-01],\n",
       "       [-5.02916149e-01, -7.84064926e-01, -5.63283848e-01,\n",
       "         6.76196845e-01, -7.30031893e-02],\n",
       "       [-5.75428033e-02, -1.30929560e-01, -4.53026099e-01,\n",
       "        -3.63559435e-01,  3.30377638e-01],\n",
       "       [-4.63706700e-01, -2.57031103e-01, -3.80895358e-01,\n",
       "         1.50889044e-01, -5.80682733e-01],\n",
       "       [-6.62113581e-02,  1.96465489e-01,  1.00580834e-02,\n",
       "        -4.11071832e-02, -3.46772004e-01],\n",
       "       [ 1.82576790e+00,  1.00144892e-01,  3.91913206e-01,\n",
       "        -9.19450885e-02, -9.15984922e-01],\n",
       "       [-3.78724206e-01, -3.26969211e-01, -2.64783316e-01,\n",
       "        -7.97838129e-02, -2.88569495e-01],\n",
       "       [-4.41175913e-02, -5.85052835e-02, -3.47800994e-03,\n",
       "        -1.73760942e-01, -4.00665885e-01],\n",
       "       [-1.69389595e-01, -4.50366829e-01, -4.32436021e-01,\n",
       "         3.01783575e-02,  9.12897087e-02],\n",
       "       [ 9.78706671e-01, -2.16331806e-01, -1.92078070e-01,\n",
       "        -7.62272960e-01, -7.42645006e-02],\n",
       "       [ 4.52378797e-01,  2.06198706e-01,  4.35157197e-01,\n",
       "         7.42873590e-01,  9.61070219e-01],\n",
       "       [-4.56072659e-01, -4.00562042e-01, -2.58639795e-01,\n",
       "        -5.93449539e-02,  4.63650115e-02],\n",
       "       [-4.38478117e-01,  1.48323635e-01,  4.26252814e-01,\n",
       "         5.88559301e-01, -1.31324847e-01],\n",
       "       [-3.26566506e-01, -1.24387821e-01,  8.19706437e-02,\n",
       "         2.18495714e-01,  8.87193802e-02],\n",
       "       [ 1.59659134e+00,  1.44652548e-01,  1.59269317e-01,\n",
       "        -9.47286471e-01, -1.91021825e-01],\n",
       "       [-5.25035236e-01,  1.38438133e+00, -5.67588449e-01,\n",
       "         1.57774546e-01, -1.62708247e-01],\n",
       "       [ 9.46366315e-01,  9.84534318e-02,  2.21296556e-01,\n",
       "         1.32901748e-01,  8.26306788e-02],\n",
       "       [ 4.76644095e-02,  1.60234333e-03,  4.06672173e-01,\n",
       "         3.84250574e-01, -4.34890829e-01],\n",
       "       [-2.65559839e-01, -3.49749284e-01, -1.64903656e-01,\n",
       "         8.37975356e-02,  1.85528939e-01],\n",
       "       [-2.56853237e-01, -1.83703361e-02, -2.55176365e-01,\n",
       "        -2.89593495e-01, -2.20605041e-01],\n",
       "       [-4.82438841e-01, -2.88563505e-01,  4.05976099e-01,\n",
       "        -7.72740857e-02, -3.86081160e-01],\n",
       "       [-8.39586676e-01, -9.51143228e-02, -7.53507746e-02,\n",
       "         6.23077667e-01, -4.87776578e-01],\n",
       "       [-2.71282518e-01, -4.72971436e-01, -1.81754618e-01,\n",
       "         5.83562552e-01, -2.37745984e-01],\n",
       "       [-3.96804468e-01, -2.66446613e-01, -4.11289678e-01,\n",
       "         2.02515511e-01, -2.24612297e-01],\n",
       "       [-4.08358571e-01,  2.63924937e-01,  5.88187797e-01,\n",
       "        -1.56532179e-02, -6.60472203e-02],\n",
       "       [-4.07718726e-01, -3.99292330e-01, -5.70114338e-01,\n",
       "        -1.73068446e-01, -1.28559170e-01],\n",
       "       [-5.37243061e-01, -6.97932415e-01, -4.63883256e-01,\n",
       "         2.13731670e-01, -8.66604233e-02],\n",
       "       [-4.69994338e-01, -1.16401069e-01, -6.55224186e-02,\n",
       "         1.40392395e-01, -3.13573999e-01],\n",
       "       [ 4.54828061e-01, -4.79888206e-01, -9.23737745e-01,\n",
       "         1.60372427e-01,  1.35807245e-02],\n",
       "       [-4.70163447e-01, -1.00010999e+00, -9.93312370e-01,\n",
       "         3.53432615e-01, -1.40614393e-01],\n",
       "       [-4.03213105e-01, -1.40333812e-01,  1.91737005e-01,\n",
       "        -2.84888255e-01,  3.55680501e-02],\n",
       "       [-4.00847222e-01, -8.14646215e-01, -5.77249637e-01,\n",
       "         8.21239962e-02, -4.45357413e-01],\n",
       "       [-1.29280756e-01, -3.32856438e-01, -1.09377015e+00,\n",
       "         6.32880043e-02,  3.44295636e-01],\n",
       "       [-6.75296608e-02, -3.00583039e-01, -5.33122069e-01,\n",
       "        -4.29024734e-01,  4.70429192e-01],\n",
       "       [-5.59105471e-01, -1.50868675e-01, -8.18270002e-02,\n",
       "        -2.66155278e-01,  7.77965918e-02],\n",
       "       [ 5.69630294e-01, -1.51702646e-01, -1.00483478e+00,\n",
       "         5.57056623e-01,  1.65454174e-01],\n",
       "       [ 1.30001424e-02,  2.30380962e-01,  8.73708647e-02,\n",
       "        -1.93184193e-01, -1.68095688e-01],\n",
       "       [ 6.42658573e-01,  2.25198237e-01, -5.63959810e-01,\n",
       "        -8.93783336e-01,  7.49086113e-02],\n",
       "       [ 5.14199257e-01,  4.03811441e-01, -2.79436878e-01,\n",
       "         1.77572007e-02, -7.06571500e-01],\n",
       "       [ 5.79644314e-01,  7.13682022e-01,  1.65564892e-01,\n",
       "        -1.01393897e+00, -9.96141254e-01],\n",
       "       [-5.19400974e-01,  7.87368035e-02,  2.75047981e-01,\n",
       "        -1.30204181e-01, -3.96085018e-01],\n",
       "       [ 8.29306709e-02,  3.87171814e-01,  8.73344874e-02,\n",
       "        -3.58355010e-01, -3.05378558e-01],\n",
       "       [ 7.46925073e-01, -7.70593800e-02,  3.21096537e-01,\n",
       "        -7.27013426e-01, -9.42110020e-02],\n",
       "       [-4.68168315e-01, -2.99277873e-02,  7.08840741e-01,\n",
       "        -5.51983165e-02, -2.17986987e-01],\n",
       "       [-4.95022759e-01,  3.63644861e-02,  8.55960881e-01,\n",
       "        -3.95654174e-01,  2.17731875e-01],\n",
       "       [-1.83406827e-01,  1.08479858e-01,  4.13419795e-01,\n",
       "        -1.91861980e-01,  2.16466277e-01],\n",
       "       [-5.21211204e-01, -5.13006248e-03,  3.37976666e-01,\n",
       "        -3.61103677e-02, -1.04067578e-01],\n",
       "       [-6.91310006e-01, -8.29792316e-02, -2.20245129e-01,\n",
       "         1.56103017e-01, -3.26189620e-01],\n",
       "       [-4.58891300e-01, -1.77927849e-01,  3.18220893e-02,\n",
       "         5.02611775e-01, -6.16760610e-01],\n",
       "       [ 1.04417672e-01,  3.45783506e-01,  5.14471594e-02,\n",
       "         6.00206133e-01,  3.64787313e-02],\n",
       "       [ 1.67555151e-01,  4.19647203e-01,  5.32729780e-01,\n",
       "        -2.19847878e-01,  4.14705326e-02],\n",
       "       [-6.33178665e-01,  2.09611320e+00, -1.02174970e+00,\n",
       "        -1.01166276e-01,  3.48869519e-01],\n",
       "       [-3.26832218e-01,  1.34045917e+00, -6.71589618e-01,\n",
       "         1.35931232e-01,  3.32742388e-01],\n",
       "       [ 1.40520312e-02,  6.21294166e-02,  2.81062551e-03,\n",
       "        -6.31809120e-01,  5.41775172e-01],\n",
       "       [-4.55685749e-01,  3.74128123e-02,  4.06202700e-01,\n",
       "        -5.14529863e-02, -1.60613579e-01],\n",
       "       [-2.44365570e-01, -7.37520684e-01, -6.84269795e-01,\n",
       "        -3.16056456e-01,  3.10397332e-01],\n",
       "       [ 8.77248207e-03, -3.89855654e-01, -4.09472528e-01,\n",
       "        -9.09063183e-01,  6.57172992e-01],\n",
       "       [-3.88928061e-01, -2.11936017e-01, -1.95193651e-01,\n",
       "        -5.56454134e-01,  1.20381385e-01],\n",
       "       [-4.69535642e-01,  3.79229453e-02,  2.36319811e-01,\n",
       "         6.67732743e-02, -2.03299562e-01],\n",
       "       [-1.56303395e-01, -8.05536550e-02,  1.77764595e-02,\n",
       "         2.68000237e-01, -3.61672598e-01],\n",
       "       [-5.90656895e-01,  1.35617347e-01,  7.53101915e-02,\n",
       "         6.10620376e-01, -2.77512496e-01],\n",
       "       [ 1.55300953e-01,  3.72040992e-01,  4.74963895e-01,\n",
       "         1.01950464e+00,  5.59053276e-01],\n",
       "       [ 6.64044872e-01, -2.03656701e-02,  8.52727865e-01,\n",
       "         1.00903349e+00,  1.29602208e+00],\n",
       "       [ 4.68811813e-01, -2.42881778e-01,  2.37185430e-01,\n",
       "        -4.54799468e-01,  6.75591657e-01],\n",
       "       [ 2.54114571e+00,  3.51622155e-01, -9.05750163e-01,\n",
       "         1.05262437e+00, -7.11808516e-01],\n",
       "       [ 5.11613792e-01, -5.61455363e-02,  4.97166559e-01,\n",
       "         4.23192515e-01,  1.22640369e+00],\n",
       "       [ 7.72341388e-01, -1.36564851e-01,  7.07018575e-01,\n",
       "         6.19368407e-01,  1.37952647e+00],\n",
       "       [-5.40958887e-01, -7.76775697e-02,  4.17499268e-02,\n",
       "         4.50459810e-02, -2.54430511e-01],\n",
       "       [-3.84980997e-01, -1.17952045e+00, -6.07435435e-01,\n",
       "         4.24463022e-01,  2.33887499e-01],\n",
       "       [-8.27750953e-02,  3.38738585e-02,  4.23222820e-01,\n",
       "         4.14242455e-01, -2.93464069e-02],\n",
       "       [-5.88665402e-01, -1.00024369e-01, -1.99360850e-01,\n",
       "         2.57316180e-01, -2.74241343e-01],\n",
       "       [ 2.88944593e-01,  1.57135504e-01,  2.05960078e-01,\n",
       "         5.94674757e-01,  7.55342083e-01],\n",
       "       [-3.64054534e-01,  1.24763070e-01,  2.59682032e-01,\n",
       "         5.30681929e-01, -1.09318704e+00],\n",
       "       [-3.86973315e-01, -2.74422368e-01,  1.63858576e-01,\n",
       "        -5.58787638e-02, -1.83152840e-01],\n",
       "       [-3.67805654e-01,  2.64372314e-02, -1.95043287e-01,\n",
       "        -8.68913708e-02, -7.10241244e-02],\n",
       "       [-5.44030141e-01, -3.35763873e-03,  5.25539802e-01,\n",
       "         8.27424262e-02, -2.54311205e-01],\n",
       "       [-7.36222794e-01,  2.05742251e+00, -7.93540856e-01,\n",
       "        -3.64864992e-01,  4.45489714e-01],\n",
       "       [-4.54377115e-01,  2.05548276e-01,  2.11637247e-01,\n",
       "        -2.44147969e-02, -7.12086224e-02],\n",
       "       [ 1.54904354e+00,  5.20436542e-01,  1.55147403e-01,\n",
       "        -8.81918298e-01, -7.90316755e-01],\n",
       "       [ 4.49447271e-01,  5.89906558e-02, -1.27064417e-01,\n",
       "        -5.74033141e-01,  5.49532845e-02],\n",
       "       [ 9.31644421e-02, -6.04622294e-01, -3.76839358e-01,\n",
       "         9.92247209e-01, -8.91799252e-01],\n",
       "       [-6.33238381e-01, -4.46576721e-02,  4.87879681e-01,\n",
       "         4.12761691e-02, -2.46681358e-01],\n",
       "       [-3.62069280e-01,  2.07639228e-01,  2.45164155e-01,\n",
       "         9.30765121e-02, -8.17197580e-02],\n",
       "       [ 2.57903541e-01, -5.88859908e-01, -8.98497839e-01,\n",
       "         5.28855742e-01, -7.45316002e-02],\n",
       "       [-4.72496737e-01, -1.84978574e-02,  7.21160753e-01,\n",
       "        -3.23313032e-01,  2.37005181e-01],\n",
       "       [-3.99662528e-01,  6.37677136e-02,  6.99006517e-01,\n",
       "        -8.34466321e-02, -6.22582303e-02],\n",
       "       [-3.84013086e-01, -2.76104641e-01,  1.38467763e-01,\n",
       "        -2.44588976e-02, -4.80331443e-02],\n",
       "       [ 8.52684241e-01, -9.31142025e-01, -8.37797164e-01,\n",
       "        -1.38995244e-01,  8.00803916e-01],\n",
       "       [-4.59878119e-01, -3.52384313e-01, -8.87538426e-02,\n",
       "        -3.30645071e-01,  3.46030084e-01],\n",
       "       [-2.11148981e-01, -3.80738798e-01, -5.98080389e-01,\n",
       "         8.32191965e-01, -4.93541790e-01],\n",
       "       [-4.73453849e-01,  3.81986666e-01,  3.33017349e-01,\n",
       "         1.63863272e-02, -1.34258582e-01],\n",
       "       [-5.07881704e-01,  4.11060907e-01, -1.64708929e-01,\n",
       "         2.02088758e-02, -1.43121593e-01],\n",
       "       [-4.77594517e-02,  1.54512295e-01,  4.93726137e-01,\n",
       "         3.82040752e-01, -3.18456417e-01],\n",
       "       [-5.80278403e-01, -5.71492136e-01, -4.68960090e-01,\n",
       "        -2.20890544e-01, -1.82975972e-01],\n",
       "       [ 3.44133626e-01, -6.24354885e-01, -7.20473917e-01,\n",
       "        -7.74651438e-01,  5.32547419e-01],\n",
       "       [-4.44957892e-01,  1.29890890e-01,  1.31572123e-01,\n",
       "         2.39145199e-01, -9.15803757e-02],\n",
       "       [-1.33781194e-01,  4.23893765e-03,  3.15045909e-01,\n",
       "        -1.39234373e-01, -2.38099447e-01]])"
      ]
     },
     "execution_count": 28,
     "metadata": {
      "tags": []
     },
     "output_type": "execute_result"
    }
   ],
   "source": [
    "mft_vecs_pca"
   ]
  },
  {
   "cell_type": "markdown",
   "metadata": {
    "id": "8qYT0AOKq_kF"
   },
   "source": [
    "### Document similarities"
   ]
  },
  {
   "cell_type": "code",
   "execution_count": 22,
   "metadata": {
    "id": "YZLPfUhMnNPt"
   },
   "outputs": [],
   "source": [
    "stpwds = stopwords.words('english')"
   ]
  },
  {
   "cell_type": "code",
   "execution_count": 23,
   "metadata": {
    "colab": {
     "base_uri": "https://localhost:8080/",
     "height": 52
    },
    "id": "BIpQ1G4jrGld",
    "outputId": "d220df20-71d6-4acd-c254-96bfe1d6bd64"
   },
   "outputs": [
    {
     "name": "stdout",
     "output_type": "stream",
     "text": [
      "['I', 'look', 'cook', 'pasta', 'I', 'really', 'love', 'italian', 'food']\n",
      "['Italian', 'food', 'one', 'best', 'favorite', 'meal', 'pizza']\n"
     ]
    }
   ],
   "source": [
    "s_1 = 'I look to cook pasta because I really love italian food'\n",
    "s_2 = 'Italian food is one of the best my favorite meal is pizza'\n",
    "\n",
    "s_1 = [elt for elt in s_1.split(' ') if elt not in stpwds]\n",
    "s_2 = [elt for elt in s_2.split(' ') if elt not in stpwds]\n",
    "\n",
    "print(s_1)\n",
    "print(s_2)"
   ]
  },
  {
   "cell_type": "code",
   "execution_count": 24,
   "metadata": {
    "colab": {
     "base_uri": "https://localhost:8080/",
     "height": 159
    },
    "id": "V4TDydScrV-F",
    "outputId": "8f9313e3-b6a4-48a5-98c3-89f32319ee8d"
   },
   "outputs": [
    {
     "name": "stdout",
     "output_type": "stream",
     "text": [
      "=== vector space representation of sentence 1 : ===\n",
      "[('cook', 1), ('look', 1), ('love', 1), ('I', 1), ('italian', 1), ('pizza', 0), ('one', 0), ('food', 1), ('really', 1), ('meal', 0), ('pasta', 1), ('Italian', 0), ('best', 0), ('favorite', 0)] \n",
      "\n",
      "=== vector space representation of sentence 2 : ===\n",
      "[('cook', 0), ('look', 0), ('love', 0), ('I', 0), ('italian', 0), ('pizza', 1), ('one', 1), ('food', 1), ('really', 0), ('meal', 1), ('pasta', 0), ('Italian', 1), ('best', 1), ('favorite', 1)] \n",
      "\n",
      "similarity of sentences 1 and 2 in vector space: [[0.13363062]]\n"
     ]
    }
   ],
   "source": [
    "features = list(set(s_1).union(set(s_2)))\n",
    "\n",
    "# project the two sentences in the vector space\n",
    "p_1 = [1 if feature in s_1 else 0 for feature in features]\n",
    "p_2 = [1 if feature in s_2 else 0 for feature in features]\n",
    "\n",
    "p_1_print = list(zip(features, p_1))\n",
    "p_2_print = list(zip(features, p_2))\n",
    "\n",
    "print('=== vector space representation of sentence 1 : ===')\n",
    "print(p_1_print, '\\n')\n",
    "print('=== vector space representation of sentence 2 : ===')\n",
    "print(p_2_print, '\\n')\n",
    "\n",
    "print('similarity of sentences 1 and 2 in vector space:', \n",
    "      cosine_similarity(np.array(p_1).reshape(1,-1),np.array(p_2).reshape(1,-1)))"
   ]
  },
  {
   "cell_type": "code",
   "execution_count": 25,
   "metadata": {
    "colab": {
     "base_uri": "https://localhost:8080/",
     "height": 35
    },
    "id": "-nOiJtZ6rYbv",
    "outputId": "88086245-1ba4-4a9c-f80c-49815fdc4144"
   },
   "outputs": [
    {
     "name": "stdout",
     "output_type": "stream",
     "text": [
      "similarity of centroids of sentences 1 and 2 in word embeddings space: [[0.6780083]]\n"
     ]
    }
   ],
   "source": [
    "p_1_embeddings = np.concatenate([wv[token].reshape(1,-1) for token in s_1])\n",
    "p_2_embeddings = np.concatenate([wv[token].reshape(1,-1) for token in s_2])\n",
    "\n",
    "# naive approach: centroids\n",
    "centroid_1 = np.mean(p_1_embeddings, axis=0).reshape(1,-1)\n",
    "centroid_2 = np.mean(p_2_embeddings, axis=0).reshape(1,-1)\n",
    "\n",
    "print('similarity of centroids of sentences 1 and 2 in word embeddings space:', cosine_similarity(centroid_1, centroid_2))"
   ]
  }
 ],
 "metadata": {
  "colab": {
   "collapsed_sections": [],
   "name": "03_word2vec.ipynb",
   "provenance": []
  },
  "kernelspec": {
   "display_name": "Python 3",
   "language": "python",
   "name": "python3"
  },
  "language_info": {
   "codemirror_mode": {
    "name": "ipython",
    "version": 3
   },
   "file_extension": ".py",
   "mimetype": "text/x-python",
   "name": "python",
   "nbconvert_exporter": "python",
   "pygments_lexer": "ipython3",
   "version": "3.8.5"
  }
 },
 "nbformat": 4,
 "nbformat_minor": 1
}

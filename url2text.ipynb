{
 "cells": [
  {
   "cell_type": "code",
   "execution_count": 1,
   "metadata": {},
   "outputs": [
    {
     "name": "stderr",
     "output_type": "stream",
     "text": [
      "[nltk_data] Downloading package punkt to\n",
      "[nltk_data]     C:\\Users\\adrie\\AppData\\Roaming\\nltk_data...\n",
      "[nltk_data]   Unzipping tokenizers\\punkt.zip.\n"
     ]
    },
    {
     "data": {
      "text/plain": [
       "True"
      ]
     },
     "execution_count": 1,
     "metadata": {},
     "output_type": "execute_result"
    }
   ],
   "source": [
    "from urllib.request import Request, urlopen\n",
    "from bs4 import BeautifulSoup as soup\n",
    "import nltk\n",
    "nltk.download('punkt')"
   ]
  },
  {
   "cell_type": "code",
   "execution_count": 2,
   "metadata": {},
   "outputs": [
    {
     "name": "stdout",
     "output_type": "stream",
     "text": [
      "<title>Pedestrianization - a data-driven approach in Kelowna, Canada - Eco-Counter</title>\n",
      "<div class=\"blog-txt\"><p>Across North America, planners, downtown managers and health experts have been working tirelessly to reinvent our public space for social distancing in light of the COVID-19 pandemic. Pop-up bike lanes, for example, aim to give people a <a href=\"https://www.nytimes.com/2020/07/03/nyregion/coronavirus-nyc-bike-paths.html\" rel=\"noopener\" target=\"_blank\">safe alternative to public transit</a>.  Pedestrianization projects on city areas such as downtown streets give people space to shop and <a href=\"https://www.cbc.ca/news/canada/new-brunswick/covid-19-uptown-shutdown-emergency-pandemic-emergency-order-1.5633238\" rel=\"noopener\" target=\"_blank\">support their favorite local businesses</a>. Large roads, such as in <a href=\"https://globalnews.ca/news/6789199/coronavirus-vancouvers-iconic-stanley-park-closed-to-vehicle-traffic/\" rel=\"noopener\" target=\"_blank\">Vancouver’s Stanley Park</a>, are being closed to give more options for people to exercise during this difficult time.</p>\n",
      "<p><span style=\"font-weight: 400;\"><strong>Pedestrianization consists of converting a street or an area to pedestrian-only use.</strong> It usually aims to provide better accessibility and mobility </span><span style=\"font-weight: 400;\">for pedestrians, to enhance the amount of shopping and other business activities in the area and/or to improve the attractiveness of the local environment in terms of aesthetics, air pollution, noise and crashes involving motor vehicles with pedestrians.</span></p>\n",
      "<p>More than five months into the pandemic, stories are beginning to emerge about how our streets have changed. In Kelowna, a beautiful mountain city in Canada’s British Columbia province, planners have been working hard on strategic city areas for pedestrianization.</p>\n",
      "<h4>A pedestrian strategy and economic recovery strategy in one</h4>\n",
      "<p>At the end of June 2020, Bernard Avenue – Kelowna’s main commercial street and busiest pedestrian corridor featuring shopping, bar and restaurant destinations – was pedestrianized. Stores and restaurants on the street were given the opportunity to expand outside using street furniture or a patio. A separated walking and biking corridor was installed down the middle of the street.  The pedestrianization will remain in effect until after the second weekend in September.</p>\n",
      "<p><div class=\"wp-caption aligncenter\" id=\"attachment_10512\" style=\"width: 810px\"><img alt=\"\" class=\"wp-image-10512\" height=\"600\" sizes=\"(max-width: 800px) 100vw, 800px\" src=\"https://www.eco-compteur.com/wp-content/uploads/2020/08/IMG_5615-300x225.jpg\" srcset=\"https://www.eco-compteur.com/wp-content/uploads/2020/08/IMG_5615-300x225.jpg 300w, https://www.eco-compteur.com/wp-content/uploads/2020/08/IMG_5615-768x576.jpg 768w, https://www.eco-compteur.com/wp-content/uploads/2020/08/IMG_5615-1024x768.jpg 1024w\" width=\"800\"><p class=\"wp-caption-text\">Busy patios on Kelowna’s Bernard Avenue post pedestrianization</p></img></div> <div class=\"wp-caption aligncenter\" id=\"attachment_10513\" style=\"width: 810px\"><img alt=\"\" class=\"wp-image-10513\" height=\"600\" sizes=\"(max-width: 800px) 100vw, 800px\" src=\"https://www.eco-compteur.com/wp-content/uploads/2020/08/IMG_5617-300x225.jpg\" srcset=\"https://www.eco-compteur.com/wp-content/uploads/2020/08/IMG_5617-300x225.jpg 300w, https://www.eco-compteur.com/wp-content/uploads/2020/08/IMG_5617-768x576.jpg 768w, https://www.eco-compteur.com/wp-content/uploads/2020/08/IMG_5617-1024x768.jpg 1024w\" width=\"800\"><p class=\"wp-caption-text\">Patios, cyclists and pedestrians all have their own zones on the reconfigured street</p></img></div></p>\n",
      "<p>This is not the first time that Bernard Avenue has seen a more pedestrian-friendly redesign. A few years ago, as part of a downtown revitalization program, sidewalks were enlarged to 4.5m (15 foot) in order to accommodate more pedestrian traffic. In order to assess the impact of infrastructure projects like this, track the growth of biking and walking in this redesigned area, and communicate with stakeholders, the City of Kelowna maintains a fleet of automated people counters all with <a href=\"http://www.eco-public.com/ParcPublic/?id=4198\" rel=\"noopener\" target=\"_blank\">public data through our Public Web Page platform</a>.</p>\n",
      "<p>With this experience in hand, The City of Kelowna saw an opportunity to take a data-driven approach to the pedestrianization of Bernard Avenue this summer. In particular, they wanted to understand what was the <em>right way</em> to pedestrianize a street and be able to communicate the answer with the city council for long term recommendations. <em>What is the right kind of street closure? How did it impact the businesses? If it is made permanent, how can we maximize the benefits to all?</em></p>\n",
      "<p><img alt=\"\" class=\"aligncenter wp-image-10525\" height=\"247\" sizes=\"(max-width: 600px) 100vw, 600px\" src=\"https://www.eco-compteur.com/wp-content/uploads/2020/08/Quote-1-MW-300x123.png\" srcset=\"https://www.eco-compteur.com/wp-content/uploads/2020/08/Quote-1-MW-300x123.png 300w, https://www.eco-compteur.com/wp-content/uploads/2020/08/Quote-1-MW.png 710w\" width=\"600\"/></p>\n",
      "<p>The City used 6 <a href=\"https://www.eco-compteur.com/en/produits/pyro-range/pyro-box/\" rel=\"noopener\" target=\"_blank\">PYRO-Box people counters</a> to create two <a href=\"https://www.pdx.edu/ibpi/what-kind-of-count#:~:text=Counts%20along%20a%20road%20segment,the%20segment%20should%20be%20counted.\" rel=\"noopener\" target=\"_blank\">screenline counts</a> at different ends of the street. Two of the PYRO-Boxes count people on sidewalks on either side, while a two-sided PYRO-Box counts traffic down the middle of the street. With these two screenlines in place, the City has a good understanding of the level of activity on the street. Last summer, a screenline was also performed on Bernard Avenue, allowing for meaningful year-on-year comparisons in the data.</p>\n",
      "<div class=\"wp-caption aligncenter\" id=\"attachment_10514\" style=\"width: 810px\"><img alt=\"\" class=\"wp-image-10514\" height=\"600\" sizes=\"(max-width: 800px) 100vw, 800px\" src=\"https://www.eco-compteur.com/wp-content/uploads/2020/08/IMG_5618-300x225.jpg\" srcset=\"https://www.eco-compteur.com/wp-content/uploads/2020/08/IMG_5618-300x225.jpg 300w, https://www.eco-compteur.com/wp-content/uploads/2020/08/IMG_5618-768x576.jpg 768w, https://www.eco-compteur.com/wp-content/uploads/2020/08/IMG_5618-1024x768.jpg 1024w\" width=\"800\"><p class=\"wp-caption-text\">A distanced, busy patio on a summer’s day in Kelowna</p></img></div>\n",
      "<p>A little over one month into the project, the street is seeing staggering pedestrian count numbers. Counters were installed the week before the project was launched in order to capture the before and after impact, and counts spiked immediately upon pedestrianization on June 29th.</p>\n",
      "<p>On average, counts are approximately 100% higher than the same period last year. According to Matt Worona, New Mobility Specialist at the City of Kelowna, the busiest day in 2019 is now ‘just a regular Thursday in 2020’. During the particularly busy weekend of July 4th and 5th, for example, daily people counts were around 25,000, compared to around 10,000 per day last year. Data is analyzed on a daily basis and undergoes a QC process that averages out the impact of weather and differences in days of week and holidays 2019 vs. 2020.</p>\n",
      "<div class=\"wp-caption aligncenter\" id=\"attachment_10566\" style=\"width: 610px\"><img alt=\"\" class=\"wp-image-10566\" height=\"459\" sizes=\"(max-width: 600px) 100vw, 600px\" src=\"https://www.eco-compteur.com/wp-content/uploads/2020/08/NEW_Graph-Kelowna-Summer-2020-300x230.png\" srcset=\"https://www.eco-compteur.com/wp-content/uploads/2020/08/NEW_Graph-Kelowna-Summer-2020-300x230.png 300w, https://www.eco-compteur.com/wp-content/uploads/2020/08/NEW_Graph-Kelowna-Summer-2020.png 584w\" width=\"600\"/><p class=\"wp-caption-text\">2020 vs. 2019 people count data for Kelowna’s Bernard Avenue</p></div>\n",
      "<h4>Communicating with local businesses and the public</h4>\n",
      "<p>Each day, pedestrian count data – including the year-on-year change- is shared with the local Business Improvement District (BID) to ensure transparency and enable the BID to fully understand the impact of pedestrianization. With this datasharing, local businesses are engaged in the project and are able to adjust their commercial activities to accommodate COVID measures and the increased footfall. If retail sales are down, the City is able to show that the drop is not due to the lack of people on the street but likely attributed to other COVID factors. If sales are up, they have the data to justify the project.</p>\n",
      "<p>People count data is also shared with local media outlets. Matt Worona explained that at this point the media have become accustomed to receiving count data and have begun to expect it in the wake of bike and pedestrian projects. </p>\n",
      "<h4>Watch this space</h4>\n",
      "<p>In the long run, pedestrian count data will serve as a key KPI for assessing the success of this summer’s project. Count data will be combined with other KPIs, including merchant satisfaction surveys and a public life study. Together, this data will allow Matt and his team to get to the heart of some of the questions they originally set out to answer, notably: <em>what is the right way to do a street closure?</em></p>\n",
      "<p>Keep an eye out this fall when we will check-in once again on this pedestrianization project and see how things turned out.</p>\n",
      "<p>—</p>\n",
      "<p><strong>Photo credits:</strong> Matt Worona, City of Kelowna</p>\n",
      "</div>\n"
     ]
    }
   ],
   "source": [
    "url = 'https://www.eco-compteur.com/en/blog/the-summer-of-giving-space-to-pedestrians-a-data-driven-approach-in-kelowna-canada/'\n",
    "req = Request(url , headers={'User-Agent': 'Mozilla/5.0'})\n",
    "\n",
    "webpage = urlopen(req).read()\n",
    "page_soup = soup(webpage, \"html.parser\")\n",
    "title = page_soup.find(\"title\")\n",
    "print(title)\n",
    "containers = page_soup.findAll(\"div\",\"blog-txt\")\n",
    "for container in containers:\n",
    "    print(container)"
   ]
  },
  {
   "cell_type": "code",
   "execution_count": 3,
   "metadata": {},
   "outputs": [
    {
     "data": {
      "text/plain": [
       "['Across North America, planners, downtown managers and health experts have been working tirelessly to reinvent our public space for social distancing in light of the COVID-19 pandemic. Pop-up bike lanes, for example, aim to give people a safe alternative to public transit.\\xa0 Pedestrianization projects on city areas such as downtown streets give people space to shop and support their favorite local businesses. Large roads, such as in Vancouver’s Stanley Park, are being closed to give more options for people to exercise during this difficult time.\\nPedestrianization consists of converting a street or an area to pedestrian-only use. It usually aims to provide better accessibility and mobility\\xa0for pedestrians, to enhance the amount of shopping and other business activities in the area and/or to improve the attractiveness of the local environment in terms of aesthetics, air pollution, noise and crashes involving motor vehicles with pedestrians.\\nMore than five months into the pandemic, stories are beginning to emerge about how our streets have changed. In Kelowna, a beautiful mountain city in Canada’s British Columbia province, planners have been working hard on strategic city areas for pedestrianization.\\nA pedestrian strategy and economic recovery strategy in one\\nAt the end of June 2020, Bernard Avenue – Kelowna’s main commercial street and busiest pedestrian corridor featuring shopping, bar and restaurant destinations – was pedestrianized. Stores and restaurants on the street were given the opportunity to expand outside using street furniture or a patio. A separated walking and biking corridor was installed down the middle of the street.\\xa0 The pedestrianization will remain in effect until after the second weekend in September.\\nBusy patios on Kelowna’s Bernard Avenue post pedestrianization Patios, cyclists and pedestrians all have their own zones on the reconfigured street\\nThis is not the first time that Bernard Avenue has seen a more pedestrian-friendly redesign. A few years ago, as part of a downtown revitalization program, sidewalks were enlarged to 4.5m (15 foot) in order to accommodate more pedestrian traffic. In order to assess the impact of infrastructure projects like this, track the growth of biking and walking in this redesigned area, and communicate with stakeholders, the City of Kelowna maintains a fleet of automated people counters all with public data through our Public Web Page platform.\\nWith this experience in hand, The City of Kelowna saw an opportunity to take a data-driven approach to the pedestrianization of Bernard Avenue this summer. In particular, they wanted to understand what was the right way\\xa0to pedestrianize a street and be able to communicate the answer with the city council for long term recommendations. What is the right kind of street closure? How did it impact the businesses? If it is made permanent, how can we maximize the benefits to all?\\n\\nThe City used 6 PYRO-Box people counters to create two screenline counts\\xa0at different ends of the street. Two of the PYRO-Boxes count people on sidewalks on either side, while a two-sided PYRO-Box counts traffic down the middle of the street. With these two screenlines in place, the City has a good understanding of the level of activity on the street. Last summer, a screenline was also performed on Bernard Avenue, allowing for meaningful year-on-year comparisons in the data.\\nA distanced, busy patio on a summer’s day in Kelowna\\nA little over one month into the project, the street is seeing staggering pedestrian count numbers. Counters were installed the week before the project was launched in order to capture the before and after impact, and counts spiked immediately upon pedestrianization on June 29th.\\nOn average, counts are approximately 100% higher than the same period last year. According to Matt Worona, New Mobility Specialist at the City of Kelowna, the busiest day in 2019 is now ‘just a regular Thursday in 2020’. During the particularly busy weekend of July 4th and 5th, for example, daily people counts were around 25,000, compared to around 10,000 per day last year.\\xa0Data is analyzed on a daily basis and undergoes a QC process that averages out the impact of weather and differences in days of week and holidays 2019 vs. 2020.\\n2020 vs. 2019 people count data for Kelowna’s Bernard Avenue\\nCommunicating with local businesses and the public\\nEach day, pedestrian count data –\\xa0including the year-on-year change- is shared with the local Business Improvement District (BID) to ensure transparency and enable the BID to fully understand the impact of pedestrianization. With this datasharing, local businesses are engaged in the project and are able to adjust their commercial activities to accommodate COVID measures and the increased footfall. If retail sales are down, the City is able to show that the drop is not due to the lack of people on the street but likely attributed to other COVID factors. If sales are up, they have the data to justify the project.\\nPeople count data is also shared with local media outlets. Matt Worona explained that at this point the media have become accustomed to receiving count data and have begun to expect it in the wake of bike and pedestrian projects.\\xa0\\nWatch this space\\nIn the long run, pedestrian count data will serve as a key KPI for assessing the success of this summer’s project. Count data will be combined with other KPIs, including merchant satisfaction surveys and a public life study. Together, this data will allow Matt and his team to get to the heart of some of the questions they originally set out to answer, notably: what is the right way to do a street closure?\\nKeep an eye out this fall when we will check-in once again on this pedestrianization project and see how things turned out.\\n—\\nPhoto credits: Matt Worona, City of Kelowna\\n']"
      ]
     },
     "execution_count": 3,
     "metadata": {},
     "output_type": "execute_result"
    }
   ],
   "source": [
    "text = []\n",
    "for a in containers:\n",
    "    text.append(a.text)\n",
    "    #print(a.text)\n",
    "\n",
    "text"
   ]
  },
  {
   "cell_type": "code",
   "execution_count": 4,
   "metadata": {},
   "outputs": [],
   "source": [
    "text = text[0].split('.')\n"
   ]
  },
  {
   "cell_type": "code",
   "execution_count": 5,
   "metadata": {},
   "outputs": [
    {
     "data": {
      "text/plain": [
       "['Across North America, planners, downtown managers and health experts have been working tirelessly to reinvent our public space for social distancing in light of the COVID-19 pandemic',\n",
       " ' Pop-up bike lanes, for example, aim to give people a safe alternative to public transit',\n",
       " '\\xa0 Pedestrianization projects on city areas such as downtown streets give people space to shop and support their favorite local businesses',\n",
       " ' Large roads, such as in Vancouver’s Stanley Park, are being closed to give more options for people to exercise during this difficult time',\n",
       " '\\nPedestrianization consists of converting a street or an area to pedestrian-only use',\n",
       " ' It usually aims to provide better accessibility and mobility\\xa0for pedestrians, to enhance the amount of shopping and other business activities in the area and/or to improve the attractiveness of the local environment in terms of aesthetics, air pollution, noise and crashes involving motor vehicles with pedestrians',\n",
       " '\\nMore than five months into the pandemic, stories are beginning to emerge about how our streets have changed',\n",
       " ' In Kelowna, a beautiful mountain city in Canada’s British Columbia province, planners have been working hard on strategic city areas for pedestrianization',\n",
       " '\\nA pedestrian strategy and economic recovery strategy in one\\nAt the end of June 2020, Bernard Avenue – Kelowna’s main commercial street and busiest pedestrian corridor featuring shopping, bar and restaurant destinations – was pedestrianized',\n",
       " ' Stores and restaurants on the street were given the opportunity to expand outside using street furniture or a patio',\n",
       " ' A separated walking and biking corridor was installed down the middle of the street',\n",
       " '\\xa0 The pedestrianization will remain in effect until after the second weekend in September',\n",
       " '\\nBusy patios on Kelowna’s Bernard Avenue post pedestrianization Patios, cyclists and pedestrians all have their own zones on the reconfigured street\\nThis is not the first time that Bernard Avenue has seen a more pedestrian-friendly redesign',\n",
       " ' A few years ago, as part of a downtown revitalization program, sidewalks were enlarged to 4',\n",
       " '5m (15 foot) in order to accommodate more pedestrian traffic',\n",
       " ' In order to assess the impact of infrastructure projects like this, track the growth of biking and walking in this redesigned area, and communicate with stakeholders, the City of Kelowna maintains a fleet of automated people counters all with public data through our Public Web Page platform',\n",
       " '\\nWith this experience in hand, The City of Kelowna saw an opportunity to take a data-driven approach to the pedestrianization of Bernard Avenue this summer',\n",
       " ' In particular, they wanted to understand what was the right way\\xa0to pedestrianize a street and be able to communicate the answer with the city council for long term recommendations',\n",
       " ' What is the right kind of street closure? How did it impact the businesses? If it is made permanent, how can we maximize the benefits to all?\\n\\nThe City used 6 PYRO-Box people counters to create two screenline counts\\xa0at different ends of the street',\n",
       " ' Two of the PYRO-Boxes count people on sidewalks on either side, while a two-sided PYRO-Box counts traffic down the middle of the street',\n",
       " ' With these two screenlines in place, the City has a good understanding of the level of activity on the street',\n",
       " ' Last summer, a screenline was also performed on Bernard Avenue, allowing for meaningful year-on-year comparisons in the data',\n",
       " '\\nA distanced, busy patio on a summer’s day in Kelowna\\nA little over one month into the project, the street is seeing staggering pedestrian count numbers',\n",
       " ' Counters were installed the week before the project was launched in order to capture the before and after impact, and counts spiked immediately upon pedestrianization on June 29th',\n",
       " '\\nOn average, counts are approximately 100% higher than the same period last year',\n",
       " ' According to Matt Worona, New Mobility Specialist at the City of Kelowna, the busiest day in 2019 is now ‘just a regular Thursday in 2020’',\n",
       " ' During the particularly busy weekend of July 4th and 5th, for example, daily people counts were around 25,000, compared to around 10,000 per day last year',\n",
       " '\\xa0Data is analyzed on a daily basis and undergoes a QC process that averages out the impact of weather and differences in days of week and holidays 2019 vs',\n",
       " ' 2020',\n",
       " '\\n2020 vs',\n",
       " ' 2019 people count data for Kelowna’s Bernard Avenue\\nCommunicating with local businesses and the public\\nEach day, pedestrian count data –\\xa0including the year-on-year change- is shared with the local Business Improvement District (BID) to ensure transparency and enable the BID to fully understand the impact of pedestrianization',\n",
       " ' With this datasharing, local businesses are engaged in the project and are able to adjust their commercial activities to accommodate COVID measures and the increased footfall',\n",
       " ' If retail sales are down, the City is able to show that the drop is not due to the lack of people on the street but likely attributed to other COVID factors',\n",
       " ' If sales are up, they have the data to justify the project',\n",
       " '\\nPeople count data is also shared with local media outlets',\n",
       " ' Matt Worona explained that at this point the media have become accustomed to receiving count data and have begun to expect it in the wake of bike and pedestrian projects',\n",
       " '\\xa0\\nWatch this space\\nIn the long run, pedestrian count data will serve as a key KPI for assessing the success of this summer’s project',\n",
       " ' Count data will be combined with other KPIs, including merchant satisfaction surveys and a public life study',\n",
       " ' Together, this data will allow Matt and his team to get to the heart of some of the questions they originally set out to answer, notably: what is the right way to do a street closure?\\nKeep an eye out this fall when we will check-in once again on this pedestrianization project and see how things turned out',\n",
       " '\\n—\\nPhoto credits: Matt Worona, City of Kelowna\\n']"
      ]
     },
     "execution_count": 5,
     "metadata": {},
     "output_type": "execute_result"
    }
   ],
   "source": [
    "text"
   ]
  },
  {
   "cell_type": "code",
   "execution_count": null,
   "metadata": {},
   "outputs": [],
   "source": []
  }
 ],
 "metadata": {
  "kernelspec": {
   "display_name": "Python 3",
   "language": "python",
   "name": "python3"
  },
  "language_info": {
   "codemirror_mode": {
    "name": "ipython",
    "version": 3
   },
   "file_extension": ".py",
   "mimetype": "text/x-python",
   "name": "python",
   "nbconvert_exporter": "python",
   "pygments_lexer": "ipython3",
   "version": "3.8.5"
  }
 },
 "nbformat": 4,
 "nbformat_minor": 4
}

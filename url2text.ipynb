{
 "cells": [
  {
   "cell_type": "markdown",
   "metadata": {},
   "source": [
    "### 1. Importing packages"
   ]
  },
  {
   "cell_type": "code",
   "execution_count": 42,
   "metadata": {},
   "outputs": [
    {
     "name": "stderr",
     "output_type": "stream",
     "text": [
      "[nltk_data] Downloading package punkt to\n",
      "[nltk_data]     C:\\Users\\adrie\\AppData\\Roaming\\nltk_data...\n",
      "[nltk_data]   Package punkt is already up-to-date!\n",
      "[nltk_data] Downloading package stopwords to\n",
      "[nltk_data]     C:\\Users\\adrie\\AppData\\Roaming\\nltk_data...\n",
      "[nltk_data]   Package stopwords is already up-to-date!\n"
     ]
    }
   ],
   "source": [
    "from urllib.request import Request, urlopen\n",
    "from bs4 import BeautifulSoup as soup\n",
    "import pickle\n",
    "\n"
   ]
  },
  {
   "cell_type": "markdown",
   "metadata": {},
   "source": [
    "### 2. Creating the spider class and text cleaning class"
   ]
  },
  {
   "cell_type": "code",
   "execution_count": 2,
   "metadata": {},
   "outputs": [],
   "source": [
    "class TheSpider:\n",
    "    \n",
    "    def __init__(self, url):\n",
    "        self.url = url\n",
    "        \n",
    "    def extraction(self):\n",
    "        req = Request(self.url , headers={'User-Agent': 'Mozilla/5.0'})\n",
    "        webpage = urlopen(req).read()\n",
    "        page_soup = soup(webpage, \"html.parser\")\n",
    "        title = page_soup.find(\"title\")\n",
    "        print(f'text extraction from {title}')\n",
    "        containers = page_soup.findAll(\"div\",\"blog-txt\")\n",
    "        for container in containers:\n",
    "            return title, container\n",
    "        \n",
    "    \n",
    "class TextSplit:\n",
    "    \n",
    "    def __init__(self, text):\n",
    "        self.text = text[1]\n",
    "            \n",
    "    def split_sentence(self):\n",
    "        text_splitted = []\n",
    "        for a in self.text:\n",
    "            text_splitted.append(self.text.text)\n",
    "        text_splitted = text_splitted[0].split('.')\n",
    "        return text_splitted"
   ]
  },
  {
   "cell_type": "markdown",
   "metadata": {},
   "source": [
    "### Text extraction and cleaning"
   ]
  },
  {
   "cell_type": "code",
   "execution_count": 3,
   "metadata": {},
   "outputs": [
    {
     "name": "stdout",
     "output_type": "stream",
     "text": [
      "text extraction from <title>Pedestrianization - a data-driven approach in Kelowna, Canada - Eco-Counter</title>\n"
     ]
    }
   ],
   "source": [
    "d = TheSpider(url = 'https://www.eco-compteur.com/en/blog/the-summer-of-giving-space-to-pedestrians-a-data-driven-approach-in-kelowna-canada/')\n",
    "text_url = d.extraction()"
   ]
  },
  {
   "cell_type": "code",
   "execution_count": 4,
   "metadata": {},
   "outputs": [],
   "source": [
    "p = TextSplit(text_url)\n",
    "text_splitted = p.split_sentence()"
   ]
  },
  {
   "cell_type": "code",
   "execution_count": 43,
   "metadata": {},
   "outputs": [],
   "source": [
    "with open(\"text_splitted.txt\", \"wb\") as fp:\n",
    "    pickle.dump(text_splitted, fp)"
   ]
  }
 ],
 "metadata": {
  "kernelspec": {
   "display_name": "Python 3",
   "language": "python",
   "name": "python3"
  },
  "language_info": {
   "codemirror_mode": {
    "name": "ipython",
    "version": 3
   },
   "file_extension": ".py",
   "mimetype": "text/x-python",
   "name": "python",
   "nbconvert_exporter": "python",
   "pygments_lexer": "ipython3",
   "version": "3.8.5"
  }
 },
 "nbformat": 4,
 "nbformat_minor": 4
}
